{
 "cells": [
  {
   "attachments": {},
   "cell_type": "markdown",
   "metadata": {},
   "source": [
    "Test out OpenAI's Large Language Model (LLM) API"
   ]
  },
  {
   "cell_type": "code",
   "execution_count": 5,
   "metadata": {},
   "outputs": [],
   "source": [
    "import openai\n",
    "import os\n",
    "\n",
    "key = os.environ.get('OPENAI_API_KEY')\n",
    "openai.api_key = key"
   ]
  },
  {
   "cell_type": "code",
   "execution_count": 5,
   "metadata": {},
   "outputs": [],
   "source": [
    "#print(key)"
   ]
  },
  {
   "cell_type": "code",
   "execution_count": 6,
   "metadata": {},
   "outputs": [
    {
     "name": "stdout",
     "output_type": "stream",
     "text": [
      "\n",
      "\n",
      "Paris\n"
     ]
    }
   ],
   "source": [
    "response = openai.Completion.create(\n",
    "    engine=\"text-davinci-002\",\n",
    "    prompt=\"What is the capital of France?\",\n",
    "    max_tokens=1024,\n",
    "    n=1,\n",
    "    stop=None,\n",
    "    temperature=0.5,\n",
    ")\n",
    "\n",
    "generated_text = response[\"choices\"][0][\"text\"]\n",
    "print(generated_text)"
   ]
  },
  {
   "cell_type": "code",
   "execution_count": 10,
   "metadata": {},
   "outputs": [
    {
     "data": {
      "text/plain": [
       "<OpenAIObject text_completion id=cmpl-73Z2QF7gPXyztdivs4bDqY0LdLkdA at 0x1f2564d3470> JSON: {\n",
       "  \"choices\": [\n",
       "    {\n",
       "      \"finish_reason\": \"stop\",\n",
       "      \"index\": 0,\n",
       "      \"logprobs\": null,\n",
       "      \"text\": \"\\n\\nParis\"\n",
       "    }\n",
       "  ],\n",
       "  \"created\": 1681084026,\n",
       "  \"id\": \"cmpl-73Z2QF7gPXyztdivs4bDqY0LdLkdA\",\n",
       "  \"model\": \"text-davinci-002\",\n",
       "  \"object\": \"text_completion\",\n",
       "  \"usage\": {\n",
       "    \"completion_tokens\": 3,\n",
       "    \"prompt_tokens\": 27,\n",
       "    \"total_tokens\": 30\n",
       "  }\n",
       "}"
      ]
     },
     "execution_count": 10,
     "metadata": {},
     "output_type": "execute_result"
    }
   ],
   "source": [
    "response"
   ]
  },
  {
   "cell_type": "code",
   "execution_count": 7,
   "metadata": {},
   "outputs": [
    {
     "name": "stdout",
     "output_type": "stream",
     "text": [
      "\n",
      "\n",
      "Paris\n"
     ]
    }
   ],
   "source": [
    "response = openai.Completion.create(\n",
    "    engine=\"text-davinci-002\",\n",
    "    prompt=\"What is the capital of France? Respond with only the capital. If the provided place has no captial, reply with 'None'\",\n",
    "    max_tokens=1024,\n",
    "    n=1,\n",
    "    stop=None,\n",
    "    temperature=0.5,\n",
    ")\n",
    "\n",
    "generated_text = response[\"choices\"][0][\"text\"]\n",
    "print(generated_text)"
   ]
  },
  {
   "attachments": {},
   "cell_type": "markdown",
   "metadata": {},
   "source": [
    "Test out OpenAI's Whisper API - Voice to Text"
   ]
  },
  {
   "cell_type": "code",
   "execution_count": 8,
   "metadata": {},
   "outputs": [],
   "source": [
    "# FindyBot5000-assets is a separate private github repo. Feel free to add your own assets by modifying the string below.\n",
    "audio_file= open(r\"..\\FindyBot5000-assets\\audio\\test_inputs\\FindyBot5000 test audio.mp3\", \"rb\")\n",
    "transcript = openai.Audio.transcribe(\"whisper-1\", audio_file)"
   ]
  },
  {
   "cell_type": "code",
   "execution_count": 9,
   "metadata": {},
   "outputs": [
    {
     "name": "stdout",
     "output_type": "stream",
     "text": [
      "text Hello world, this is a test for a FindyBot 5000.\n"
     ]
    }
   ],
   "source": [
    "for k,v in transcript.items():\n",
    "    print(k,v)"
   ]
  },
  {
   "cell_type": "code",
   "execution_count": 11,
   "metadata": {},
   "outputs": [
    {
     "name": "stdout",
     "output_type": "stream",
     "text": [
      "Hello world, this is a test for a FindyBot 5000.\n"
     ]
    }
   ],
   "source": [
    "spoken_request = transcript['text']\n",
    "print(spoken_request)"
   ]
  },
  {
   "attachments": {},
   "cell_type": "markdown",
   "metadata": {},
   "source": [
    "Test Whisper + LLM. <br>\n",
    "A spoken command will be along the lines of:<br>\n",
    "\"Hey FindyBot, I'm looking for red leds, can you give me a hand?\"\n",
    "1. Whisper will be used to parse Text from Audio\n",
    "2. text-davinci LLM will be used to extract the relevant item from the query, in this case 'red led'"
   ]
  },
  {
   "cell_type": "code",
   "execution_count": 3,
   "metadata": {},
   "outputs": [],
   "source": [
    "def return_searched_item(audio_path: str) -> tuple[str, str]:\n",
    "\n",
    "    # Whisper\n",
    "    leds_audio_file= open(audio_path, \"rb\")\n",
    "    leds_transcript = openai.Audio.transcribe(\"whisper-1\", leds_audio_file)\n",
    "    leds_text = leds_transcript['text']\n",
    "\n",
    "    # text-davinci LLM\n",
    "    leds_response = openai.Completion.create(\n",
    "        engine=\"text-davinci-002\",\n",
    "        prompt=f\"Extract the item I am looking for from the following text. Respond with only the item. Make any plural words or acronyms in the response singular. Here is the text: '{leds_text}'\",\n",
    "        max_tokens=1024,\n",
    "        n=1,\n",
    "        stop=None,\n",
    "        temperature=0.5,\n",
    "    )\n",
    "\n",
    "    leds_generated_text = leds_response[\"choices\"][0][\"text\"]\n",
    "    return leds_text, leds_generated_text\n"
   ]
  },
  {
   "cell_type": "code",
   "execution_count": 18,
   "metadata": {},
   "outputs": [
    {
     "name": "stdout",
     "output_type": "stream",
     "text": [
      "Hey Findy Bot, I'm looking for my red LEDs. Can you give me a hand? \n",
      "\n",
      "red LEDs\n"
     ]
    }
   ],
   "source": [
    "text, item = return_searched_item(r\"..\\FindyBot5000-assets\\audio\\test_inputs\\red leds2.mp3\")\n",
    "print(text, item)"
   ]
  },
  {
   "cell_type": "code",
   "execution_count": 4,
   "metadata": {},
   "outputs": [
    {
     "name": "stdout",
     "output_type": "stream",
     "text": [
      "Hey, FinyBot, where are my AAA batteries? \n",
      "\n",
      "AAA batteries\n"
     ]
    }
   ],
   "source": [
    "text, item = return_searched_item(r\"..\\FindyBot5000-assets\\audio\\test_inputs\\AAA batteries.mp3\")\n",
    "print(text, item)"
   ]
  },
  {
   "attachments": {},
   "cell_type": "markdown",
   "metadata": {},
   "source": [
    "Print speech components using PocketSphinx"
   ]
  },
  {
   "cell_type": "code",
   "execution_count": 7,
   "metadata": {},
   "outputs": [
    {
     "name": "stdout",
     "output_type": "stream",
     "text": [
      "this is a test this is a test on pockets thanks\n",
      "just one two three\n",
      "foreign people\n",
      "find the ball\n",
      "they do\n",
      "what\n",
      "good\n",
      "are you a beer\n",
      "\n",
      "this is this from afar\n",
      "\n",
      "well done\n",
      "\n"
     ]
    }
   ],
   "source": [
    "from pocketsphinx import LiveSpeech\n",
    "for phrase in LiveSpeech(): print(phrase)"
   ]
  },
  {
   "attachments": {
    "image.png": {
     "image/png": "[encoded data removed]"
    }
   },
   "cell_type": "markdown",
   "metadata": {},
   "source": [
    "Here's a screenshot of speech recognition with Sphinx. It leaves a little something to be desired...<br>\n",
    "![image.png](attachment:image.png)"
   ]
  },
  {
   "cell_type": "code",
   "execution_count": 10,
   "metadata": {},
   "outputs": [
    {
     "name": "stdout",
     "output_type": "stream",
     "text": [
      "[('jarvis', -837, 3, 80)]\n",
      "[('jarvis', -369, 4, 87)]\n"
     ]
    }
   ],
   "source": [
    "# Lets see how well keywords can be detected.\n",
    "from pocketsphinx import LiveSpeech\n",
    "\n",
    "speech = LiveSpeech(lm=False, keyphrase='jarvis', kws_threshold=1e-20)\n",
    "for phrase in speech:\n",
    "    print(phrase.segments(detailed=True))\n",
    "\n",
    "# Jarvis won by a long shot over Aura, Lumen, Aria, Lyra, Zara"
   ]
  },
  {
   "cell_type": "code",
   "execution_count": 6,
   "metadata": {},
   "outputs": [
    {
     "name": "stdout",
     "output_type": "stream",
     "text": [
      "say something!…\n",
      "Sphinx thinks you said: 'hey jervis where are my red annuities'\n",
      "Whisper thinks you said: 'Hey Jarvis, where are my red LEDs?'\n",
      "say something!…\n",
      "Sphinx thinks you said: 'the jurors were my trip away batteries'\n",
      "say something!…\n",
      "Sphinx thinks you said: 'he jervis where are my triple a. batteries'\n",
      "Whisper thinks you said: 'Hey Jarvis, where are my AAA batteries?'\n",
      "say something!…\n"
     ]
    },
    {
     "ename": "KeyboardInterrupt",
     "evalue": "",
     "output_type": "error",
     "traceback": [
      "\u001b[1;31m---------------------------------------------------------------------------\u001b[0m",
      "\u001b[1;31mKeyboardInterrupt\u001b[0m                         Traceback (most recent call last)",
      "Cell \u001b[1;32mIn[6], line 19\u001b[0m\n\u001b[0;32m     16\u001b[0m \u001b[39m# First try recognize speech using Sphinx, and search the string for any of the keywords\u001b[39;00m\n\u001b[0;32m     17\u001b[0m \u001b[39m# If a keyword is found, pass the raw audio to Whisper to perform full text recognition\u001b[39;00m\n\u001b[0;32m     18\u001b[0m \u001b[39mtry\u001b[39;00m:\n\u001b[1;32m---> 19\u001b[0m     recognized_text \u001b[39m=\u001b[39m r\u001b[39m.\u001b[39;49mrecognize_sphinx(audio)\n\u001b[0;32m     21\u001b[0m     \u001b[39mprint\u001b[39m(\u001b[39m\"\u001b[39m\u001b[39mSphinx thinks you said: \u001b[39m\u001b[39m'\u001b[39m\u001b[39m\"\u001b[39m \u001b[39m+\u001b[39m recognized_text \u001b[39m+\u001b[39m \u001b[39m\"\u001b[39m\u001b[39m'\u001b[39m\u001b[39m\"\u001b[39m)\n\u001b[0;32m     23\u001b[0m     \u001b[39mif\u001b[39;00m \u001b[39many\u001b[39m(keyword \u001b[39min\u001b[39;00m recognized_text\u001b[39m.\u001b[39mlower() \u001b[39mfor\u001b[39;00m keyword \u001b[39min\u001b[39;00m keywords):\n",
      "File \u001b[1;32mc:\\Users\\Dustin\\miniconda3\\envs\\FindyBot5000\\Lib\\site-packages\\speech_recognition\\__init__.py:664\u001b[0m, in \u001b[0;36mRecognizer.recognize_sphinx\u001b[1;34m(self, audio_data, language, keyword_entries, grammar, show_all)\u001b[0m\n\u001b[0;32m    662\u001b[0m decoder\u001b[39m.\u001b[39mstart_utt()  \u001b[39m# begin utterance processing\u001b[39;00m\n\u001b[0;32m    663\u001b[0m decoder\u001b[39m.\u001b[39mprocess_raw(raw_data, \u001b[39mFalse\u001b[39;00m, \u001b[39mTrue\u001b[39;00m)  \u001b[39m# process audio data with recognition enabled (no_search = False), as a full utterance (full_utt = True)\u001b[39;00m\n\u001b[1;32m--> 664\u001b[0m decoder\u001b[39m.\u001b[39;49mend_utt()  \u001b[39m# stop utterance processing\u001b[39;00m\n\u001b[0;32m    666\u001b[0m \u001b[39mif\u001b[39;00m show_all: \u001b[39mreturn\u001b[39;00m decoder\n\u001b[0;32m    668\u001b[0m \u001b[39m# return results\u001b[39;00m\n",
      "\u001b[1;31mKeyboardInterrupt\u001b[0m: "
     ]
    }
   ],
   "source": [
    "import speech_recognition as sr\n",
    "\n",
    "# Sphinx has some trouble getting 'jarvis' every time...\n",
    "keywords = ['jarvis', 'jervis']\n",
    "\n",
    "r = sr.Recognizer()\n",
    "speech = sr.Microphone(device_index=0)\n",
    "\n",
    "while True:\n",
    "    # Listen for a sentence\n",
    "    with speech as source:\n",
    "        print(\"say something!…\")\n",
    "        audio = r.adjust_for_ambient_noise(source)\n",
    "        audio = r.listen(source)\n",
    "    \n",
    "    # First try recognize speech using Sphinx, and search the string for any of the keywords\n",
    "    # If a keyword is found, pass the raw audio to Whisper to perform full text recognition\n",
    "    try:\n",
    "        recognized_text = r.recognize_sphinx(audio)\n",
    "        \n",
    "        print(\"Sphinx thinks you said: '\" + recognized_text + \"'\")\n",
    "\n",
    "        if any(keyword in recognized_text.lower() for keyword in keywords):\n",
    "            whisper_text = r.recognize_whisper_api(audio, model=\"whisper-1\", api_key=key)\n",
    "            print(\"Whisper thinks you said: '\" + whisper_text + \"'\")\n",
    "\n",
    "    except sr.UnknownValueError:\n",
    "        print(\"Sphinx could not understand audio\")  \n",
    "    except sr.RequestError as e:  \n",
    "        print(\"Sphinx error; {0}\".format(e))"
   ]
  },
  {
   "attachments": {},
   "cell_type": "markdown",
   "metadata": {},
   "source": [
    "Basic end to end example:\n",
    "1. Listen for a spoken sentence\n",
    "2. Use Sphinx to determine if the keyword was present\n",
    "3. If so, use Whisper for speech-to-text\n",
    "4. Use text-davinci to extract the item that the user is looking for\n",
    "5. Next up... Synthesize voice from response text"
   ]
  },
  {
   "cell_type": "code",
   "execution_count": null,
   "metadata": {},
   "outputs": [],
   "source": [
    "import speech_recognition as sr\n",
    "\n",
    "# Sphinx has some trouble getting 'jarvis' every time...\n",
    "keywords = ['jarvis', 'jervis']\n",
    "\n",
    "r = sr.Recognizer()\n",
    "speech = sr.Microphone(device_index=0)\n",
    "\n",
    "while True:\n",
    "    # Listen for a sentence\n",
    "    with speech as source:\n",
    "        print(\"Listening for a sentence...\")\n",
    "        audio = r.adjust_for_ambient_noise(source)\n",
    "        audio = r.listen(source)\n",
    "    \n",
    "    # First try recognize speech using Sphinx, and search the string for any of the keywords\n",
    "    # If a keyword is found, pass the raw audio to Whisper to perform full text recognition\n",
    "    try:\n",
    "        recognized_text = r.recognize_sphinx(audio)\n",
    "        \n",
    "        print(f\"Sphinx thinks you said: '{recognized_text}'\")\n",
    "\n",
    "        # If a keyword wasn't found, go back to listening for input\n",
    "        if not any(keyword in recognized_text.lower() for keyword in keywords):\n",
    "            continue\n",
    "\n",
    "        whisper_text = r.recognize_whisper_api(audio, model=\"whisper-1\", api_key=key)\n",
    "        print(f\"Whisper thinks you said: '{whisper_text}'\")\n",
    "        \n",
    "        # text-davinci LLM\n",
    "        openai_response = openai.Completion.create(\n",
    "            engine=\"text-davinci-002\",\n",
    "            prompt=f\"Extract the item I am looking for from the following text. Respond with only the item. Make any plural words or acronyms in the response singular. Here is the text: '{whisper_text}'\",\n",
    "            max_tokens=1024,\n",
    "            n=1,\n",
    "            stop=None,\n",
    "            temperature=0.5,\n",
    "        )\n",
    "\n",
    "        generated_text = openai_response[\"choices\"][0][\"text\"]\n",
    "\n",
    "        print(f\"OpenAI thinks you are looking for: '{generated_text}'\")\n",
    "\n",
    "    except sr.UnknownValueError:\n",
    "        print(\"Sphinx could not understand audio\")  \n",
    "    except sr.RequestError as e:  \n",
    "        print(\"Sphinx error; {0}\".format(e))"
   ]
  }
 ],
 "metadata": {
  "kernelspec": {
   "display_name": "FindyBot5000",
   "language": "python",
   "name": "python3"
  },
  "language_info": {
   "codemirror_mode": {
    "name": "ipython",
    "version": 3
   },
   "file_extension": ".py",
   "mimetype": "text/x-python",
   "name": "python",
   "nbconvert_exporter": "python",
   "pygments_lexer": "ipython3",
   "version": "3.11.3"
  },
  "orig_nbformat": 4
 },
 "nbformat": 4,
 "nbformat_minor": 2
}
