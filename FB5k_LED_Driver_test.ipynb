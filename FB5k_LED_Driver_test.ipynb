{
 "cells": [
  {
   "cell_type": "code",
   "execution_count": 1,
   "metadata": {},
   "outputs": [],
   "source": [
    "class Colors:\n",
    "    AliceBlue = 0xF0F8FF\n",
    "    Amethyst = 0x9966CC\n",
    "    AntiqueWhite = 0xFAEBD7\n",
    "    Aqua = 0x00FFFF\n",
    "    Aquamarine = 0x7FFFD4\n",
    "    Azure = 0xF0FFFF\n",
    "    Beige = 0xF5F5DC\n",
    "    Bisque = 0xFFE4C4\n",
    "    Black = 0x000000\n",
    "    BlanchedAlmond = 0xFFEBCD\n",
    "    Blue = 0x0000FF\n",
    "    BlueViolet = 0x8A2BE2\n",
    "    Brown = 0xA52A2A\n",
    "    BurlyWood = 0xDEB887\n",
    "    CadetBlue = 0x5F9EA0\n",
    "    Chartreuse = 0x7FFF00\n",
    "    Chocolate = 0xD2691E\n",
    "    Coral = 0xFF7F50\n",
    "    CornflowerBlue = 0x6495ED\n",
    "    Cornsilk = 0xFFF8DC\n",
    "    Crimson = 0xDC143C\n",
    "    Cyan = 0x00FFFF\n",
    "    DarkBlue = 0x00008B\n",
    "    DarkCyan = 0x008B8B\n",
    "    DarkGoldenrod = 0xB8860B\n",
    "    DarkGray = 0xA9A9A9\n",
    "    DarkGrey = 0xA9A9A9\n",
    "    DarkGreen = 0x006400\n",
    "    DarkKhaki = 0xBDB76B\n",
    "    DarkMagenta = 0x8B008B\n",
    "    DarkOliveGreen = 0x556B2F\n",
    "    DarkOrange = 0xFF8C00\n",
    "    DarkOrchid = 0x9932CC\n",
    "    DarkRed = 0x8B0000\n",
    "    DarkSalmon = 0xE9967A\n",
    "    DarkSeaGreen = 0x8FBC8F\n",
    "    DarkSlateBlue = 0x483D8B\n",
    "    DarkSlateGray = 0x2F4F4F\n",
    "    DarkSlateGrey = 0x2F4F4F\n",
    "    DarkTurquoise = 0x00CED1\n",
    "    DarkViolet = 0x9400D3\n",
    "    DeepPink = 0xFF1493\n",
    "    DeepSkyBlue = 0x00BFFF\n",
    "    DimGray = 0x696969\n",
    "    DimGrey = 0x696969\n",
    "    DodgerBlue = 0x1E90FF\n",
    "    FireBrick = 0xB22222\n",
    "    FloralWhite = 0xFFFAF0\n",
    "    ForestGreen = 0x228B22\n",
    "    Fuchsia = 0xFF00FF\n",
    "    Gainsboro = 0xDCDCDC\n",
    "    GhostWhite = 0xF8F8FF\n",
    "    Gold = 0xFFD700\n",
    "    Goldenrod = 0xDAA520\n",
    "    Gray = 0x808080\n",
    "    Grey = 0x808080\n",
    "    Green = 0x008000\n",
    "    GreenYellow = 0xADFF2F\n",
    "    Honeydew = 0xF0FFF0\n",
    "    HotPink = 0xFF69B4\n",
    "    IndianRed = 0xCD5C5C\n",
    "    Indigo = 0x4B0082\n",
    "    Ivory = 0xFFFFF0\n",
    "    Khaki = 0xF0E68C\n",
    "    Lavender = 0xE6E6FA\n",
    "    LavenderBlush = 0xFFF0F5\n",
    "    LawnGreen = 0x7CFC00\n",
    "    LemonChiffon = 0xFFFACD\n",
    "    LightBlue = 0xADD8E6\n",
    "    LightCoral = 0xF08080\n",
    "    LightCyan = 0xE0FFFF\n",
    "    LightGoldenrodYellow = 0xFAFAD2\n",
    "    LightGreen = 0x90EE90\n",
    "    LightGrey = 0xD3D3D3\n",
    "    LightPink = 0xFFB6C1\n",
    "    LightSalmon = 0xFFA07A\n",
    "    LightSeaGreen = 0x20B2AA\n",
    "    LightSkyBlue = 0x87CEFA\n",
    "    LightSlateGray = 0x778899\n",
    "    LightSlateGrey = 0x778899\n",
    "    LightSteelBlue = 0xB0C4DE\n",
    "    LightYellow = 0xFFFFE0\n",
    "    Lime = 0x00FF00\n",
    "    LimeGreen = 0x32CD32\n",
    "    Linen = 0xFAF0E6\n",
    "    Magenta = 0xFF00FF\n",
    "    Maroon = 0x800000\n",
    "    MediumAquamarine = 0x66CDAA\n",
    "    MediumBlue = 0x0000CD\n",
    "    MediumOrchid = 0xBA55D3\n",
    "    MediumPurple = 0x9370DB\n",
    "    MediumSeaGreen = 0x3CB371\n",
    "    MediumSlateBlue = 0x7B68EE\n",
    "    MediumSpringGreen = 0x00FA9A\n",
    "    MediumTurquoise = 0x48D1CC\n",
    "    MediumVioletRed = 0xC71585\n",
    "    MidnightBlue = 0x191970\n",
    "    MintCream = 0xF5FFFA\n",
    "    MistyRose = 0xFFE4E1\n",
    "    Moccasin = 0xFFE4B5\n",
    "    NavajoWhite = 0xFFDEAD\n",
    "    Navy = 0x000080\n",
    "    OldLace = 0xFDF5E6\n",
    "    Olive = 0x808000\n",
    "    OliveDrab = 0x6B8E23\n",
    "    Orange = 0xFFA500\n",
    "    OrangeRed = 0xFF4500\n",
    "    Orchid = 0xDA70D6\n",
    "    PaleGoldenrod = 0xEEE8AA\n",
    "    PaleGreen = 0x98FB98\n",
    "    PaleTurquoise = 0xAFEEEE\n",
    "    PaleVioletRed = 0xDB7093\n",
    "    PapayaWhip = 0xFFEFD5\n",
    "    PeachPuff = 0xFFDAB9\n",
    "    Peru = 0xCD853F\n",
    "    Pink = 0xFFC0CB\n",
    "    Plaid = 0xCC5533\n",
    "    Plum = 0xDDA0DD\n",
    "    PowderBlue = 0xB0E0E6\n",
    "    Purple = 0x800080\n",
    "    Red = 0xFF0000\n",
    "    RosyBrown = 0xBC8F8F\n",
    "    RoyalBlue = 0x4169E1\n",
    "    SaddleBrown = 0x8B4513\n",
    "    Salmon = 0xFA8072\n",
    "    SandyBrown = 0xF4A460\n",
    "    SeaGreen = 0x2E8B57\n",
    "    Seashell = 0xFFF5EE\n",
    "    Sienna = 0xA0522D\n",
    "    Silver = 0xC0C0C0\n",
    "    SkyBlue = 0x87CEEB\n",
    "    SlateBlue = 0x6A5ACD\n",
    "    SlateGray = 0x708090\n",
    "    SlateGrey = 0x708090\n",
    "    Snow = 0xFFFAFA\n",
    "    SpringGreen = 0x00FF7F\n",
    "    SteelBlue = 0x4682B4\n",
    "    Tan = 0xD2B48C\n",
    "    Teal = 0x008080\n",
    "    Thistle = 0xD8BFD8\n",
    "    Tomato = 0xFF6347\n",
    "    Turquoise = 0x40E0D0\n",
    "    Violet = 0xEE82EE\n",
    "    Wheat = 0xF5DEB3\n",
    "    White = 0xFFFFFF\n",
    "    WhiteSmoke = 0xF5F5F5\n",
    "    Yellow = 0xFFFF00\n",
    "    YellowGreen = 0x9ACD32"
   ]
  },
  {
   "cell_type": "code",
   "execution_count": 2,
   "metadata": {},
   "outputs": [
    {
     "name": "stdout",
     "output_type": "stream",
     "text": [
      "b'FindyBot5000\\r\\n'\n",
      "b'Framebuffer_GFX::begin Width: 60 Height: 14 Num Pixels: 840\\r\\n'\n"
     ]
    }
   ],
   "source": [
    "import serial\n",
    "import threading\n",
    "import struct\n",
    "\n",
    "class SerialReader:\n",
    "    def __init__(self, port, baudrate, callback):\n",
    "        self.serial_port = serial.Serial(port, baudrate)\n",
    "        self.callback = callback\n",
    "        self.read_thread = threading.Thread(target=self.read_loop)\n",
    "        #self.read_thread.daemon = True\n",
    "        self.read_thread.start()\n",
    "\n",
    "    def read_loop(self):\n",
    "        while True:\n",
    "            data = self.serial_port.readline()#.decode('ascii')\n",
    "            self.callback(data)\n",
    "\n",
    "    def close(self):\n",
    "        self.serial_port.close()\n",
    "\n",
    "def print_received_data(data):\n",
    "    print(data)\n",
    "\n",
    "# Windows:\n",
    "serial_reader = SerialReader(\"COM7\", 115200, print_received_data)\n",
    "serial_reader = SerialReader(\"/dev/ttyACM0\", 115200, print_received_data)\n"
   ]
  },
  {
   "cell_type": "code",
   "execution_count": 3,
   "metadata": {},
   "outputs": [],
   "source": [
    "def send_pixel_color(row, col, color):\n",
    "    red = (color >> 16) & 0xFF\n",
    "    green = (color >> 8) & 0xFF\n",
    "    blue = color & 0xFF\n",
    "    cmd = struct.pack('!BBBBBBBBB', 0xAA, 0x01, row, col, red, green, blue, 0x55, 0x0A)\n",
    "    serial_reader.serial_port.write(cmd)\n",
    "\n",
    "    # line = serial_reader.serial_port.readline()\n",
    "    # print(line)\n",
    "\n",
    "def set_relay(state):\n",
    "    cmd = struct.pack('!BBBBB', 0xAA, 0x02, 0x01 if state else 0x00, 0x55, 0x0A)\n",
    "    serial_reader.serial_port.write(cmd)\n",
    "    \n",
    "    # line = serial_reader.serial_port.readline()\n",
    "    # print(line)\n",
    "\n",
    "def light_boxes():\n",
    "    cmd = struct.pack('!BBBB', 0xAA, 0x04, 0x55, 0x0A)\n",
    "    serial_reader.serial_port.write(cmd)\n",
    "\n",
    "def clear_display():\n",
    "    cmd = struct.pack('!BBBB', 0xAA, 0x03, 0x55, 0x0A)\n",
    "    serial_reader.serial_port.write(cmd)"
   ]
  },
  {
   "cell_type": "code",
   "execution_count": 4,
   "metadata": {},
   "outputs": [
    {
     "name": "stdout",
     "output_type": "stream",
     "text": [
      "240 248 255\n"
     ]
    }
   ],
   "source": [
    "def col(row, col, color):\n",
    "    red = (color >> 16) & 0xFF\n",
    "    green = (color >> 8) & 0xFF\n",
    "    blue = color & 0xFF\n",
    "    print(red, green, blue)\n",
    "\n",
    "col(0,0,Colors.AliceBlue)"
   ]
  },
  {
   "cell_type": "code",
   "execution_count": 5,
   "metadata": {},
   "outputs": [
    {
     "name": "stdout",
     "output_type": "stream",
     "text": [
      "b'Incoming char: \\xaa\\r\\n'\n",
      "b'Incoming char: \\x02\\r\\n'\n"
     ]
    },
    {
     "name": "stdout",
     "output_type": "stream",
     "text": [
      "b'Incoming char: \\x01\\r\\n'\n",
      "b'Incoming char: U\\r\\n'\n",
      "b'Incoming char: \\n'\n",
      "b'\\r\\n'\n",
      "b'Received command: \\xaa\\x02\\x01U|\\r\\n'\n",
      "b'Turning Display ON\\r\\n'\n"
     ]
    }
   ],
   "source": [
    "set_relay(True)"
   ]
  },
  {
   "cell_type": "code",
   "execution_count": 11,
   "metadata": {},
   "outputs": [
    {
     "name": "stdout",
     "output_type": "stream",
     "text": [
      "b'Incoming char: \\xaa\\r\\n'\n",
      "b'Incoming char: \\x02\\r\\n'\n"
     ]
    },
    {
     "name": "stdout",
     "output_type": "stream",
     "text": [
      "b'Incoming char: \\x00\\r\\n'\n",
      "b'Incoming char: U\\r\\n'\n",
      "b'Incoming char: \\n'\n",
      "b'\\r\\n'\n",
      "b'Received command: \\xaa\\x02\\x00U|\\r\\n'\n",
      "b'Turning Display OFF\\r\\n'\n"
     ]
    }
   ],
   "source": [
    "set_relay(False)"
   ]
  },
  {
   "cell_type": "code",
   "execution_count": 6,
   "metadata": {},
   "outputs": [
    {
     "name": "stdout",
     "output_type": "stream",
     "text": [
      "b'Incoming char: \\xaa\\r\\n'\n"
     ]
    },
    {
     "name": "stdout",
     "output_type": "stream",
     "text": [
      "b'Incoming char: \\x01\\r\\n'\n",
      "b'Incoming char: \\x01\\r\\n'\n",
      "b'Incoming char: \\x05\\r\\n'\n",
      "b'Incoming char: \\x00\\r\\n'\n",
      "b'Incoming char: \\x8b\\r\\n'\n",
      "b'Incoming char: \\x8b\\r\\n'\n",
      "b'Incoming char: U\\r\\n'\n",
      "b'Incoming char: \\n'\n",
      "b'\\r\\n'\n",
      "b'Received command: \\xaa\\x01\\x01\\x05\\x00\\x8b\\x8bU|\\r\\n'\n",
      "b'Lighting box [1, 5] with color (\\x00,\\x8b,\\x8b)\\r\\n'\n"
     ]
    }
   ],
   "source": [
    "send_pixel_color(1, 5, Colors.DarkCyan)"
   ]
  },
  {
   "cell_type": "code",
   "execution_count": 7,
   "metadata": {},
   "outputs": [
    {
     "name": "stdout",
     "output_type": "stream",
     "text": [
      "b'Incoming char: \\xaa\\r\\n'\n"
     ]
    },
    {
     "name": "stdout",
     "output_type": "stream",
     "text": [
      "b'Incoming char: \\x03\\r\\n'\n",
      "b'Incoming char: U\\r\\n'\n",
      "b'Incoming char: \\n'\n",
      "b'\\r\\n'\n",
      "b'Received command: \\xaa\\x03U|\\r\\n'\n"
     ]
    },
    {
     "name": "stderr",
     "output_type": "stream",
     "text": [
      "Exception in thread Thread-3 (read_loop):\n",
      "Traceback (most recent call last):\n",
      "  File \"c:\\Users\\Dustin\\miniconda3\\envs\\FindyBot5000\\Lib\\threading.py\", line 1038, in _bootstrap_inner\n",
      "    self.run()\n",
      "  File \"c:\\Users\\Dustin\\miniconda3\\envs\\FindyBot5000\\Lib\\threading.py\", line 975, in run\n",
      "    self._target(*self._args, **self._kwargs)\n",
      "  File \"C:\\Users\\Dustin\\AppData\\Local\\Temp\\ipykernel_18196\\634009601.py\", line 15, in read_loop\n",
      "  File \"c:\\Users\\Dustin\\miniconda3\\envs\\FindyBot5000\\Lib\\site-packages\\serial\\serialwin32.py\", line 273, in read\n",
      "    raise SerialException(\"ClearCommError failed ({!r})\".format(ctypes.WinError()))\n",
      "serial.serialutil.SerialException: ClearCommError failed (PermissionError(13, 'The device does not recognize the command.', None, 22))\n"
     ]
    },
    {
     "name": "stdout",
     "output_type": "stream",
     "text": [
      "b''\n"
     ]
    }
   ],
   "source": [
    "clear_display()"
   ]
  },
  {
   "cell_type": "code",
   "execution_count": 10,
   "metadata": {},
   "outputs": [
    {
     "name": "stdout",
     "output_type": "stream",
     "text": [
      "b'Incoming char: \\xaa\\r\\n'\n"
     ]
    },
    {
     "name": "stdout",
     "output_type": "stream",
     "text": [
      "b'Incoming char: \\x04\\r\\n'\n",
      "b'Incoming char: U\\r\\n'\n",
      "b'Incoming char: \\n'\n",
      "b'\\r\\n'\n",
      "b'Received command: \\xaa\\x04U|\\r\\n'\n",
      "b'0\\r\\n'\n",
      "b'1\\r\\n'\n",
      "b'2\\r\\n'\n",
      "b'3\\r\\n'\n",
      "b'4\\r\\n'\n",
      "b'5\\r\\n'\n",
      "b'6\\r\\n'\n",
      "b'7\\r\\n'\n",
      "b'8\\r\\n'\n",
      "b'9\\r\\n'\n",
      "b'10\\r\\n'\n",
      "b'11\\r\\n'\n",
      "b'12\\r\\n'\n",
      "b'13\\r\\n'\n",
      "b'14\\r\\n'\n",
      "b'15\\r\\n'\n",
      "b'16\\r\\n'\n",
      "b'17\\r\\n'\n",
      "b'18\\r\\n'\n",
      "b'19\\r\\n'\n",
      "b'20\\r\\n'\n"
     ]
    }
   ],
   "source": [
    "light_boxes()"
   ]
  },
  {
   "cell_type": "code",
   "execution_count": 8,
   "metadata": {},
   "outputs": [
    {
     "name": "stdout",
     "output_type": "stream",
     "text": [
      "b''\n"
     ]
    },
    {
     "name": "stderr",
     "output_type": "stream",
     "text": [
      "Exception in thread Thread-3 (read_loop):\n",
      "Traceback (most recent call last):\n",
      "  File \"c:\\Users\\Dustin\\miniconda3\\envs\\FindyBot5000\\Lib\\threading.py\", line 1038, in _bootstrap_inner\n",
      "    self.run()\n",
      "  File \"c:\\Users\\Dustin\\miniconda3\\envs\\FindyBot5000\\Lib\\threading.py\", line 975, in run\n",
      "    self._target(*self._args, **self._kwargs)\n",
      "  File \"C:\\Users\\Dustin\\AppData\\Local\\Temp\\ipykernel_11068\\634009601.py\", line 15, in read_loop\n",
      "  File \"c:\\Users\\Dustin\\miniconda3\\envs\\FindyBot5000\\Lib\\site-packages\\serial\\serialwin32.py\", line 283, in read\n",
      "    ctypes.byref(self._overlapped_read))\n",
      "    ^^^^^^^^^^^^^^^^^^^^^^^^^^^^^^^^^^^\n",
      "TypeError: byref() argument must be a ctypes instance, not 'NoneType'\n"
     ]
    }
   ],
   "source": [
    "serial_reader.close()"
   ]
  },
  {
   "cell_type": "code",
   "execution_count": null,
   "metadata": {},
   "outputs": [],
   "source": []
  }
 ],
 "metadata": {
  "kernelspec": {
   "display_name": "FindyBot5000",
   "language": "python",
   "name": "python3"
  },
  "language_info": {
   "codemirror_mode": {
    "name": "ipython",
    "version": 3
   },
   "file_extension": ".py",
   "mimetype": "text/x-python",
   "name": "python",
   "nbconvert_exporter": "python",
   "pygments_lexer": "ipython3",
   "version": "3.11.3"
  },
  "orig_nbformat": 4
 },
 "nbformat": 4,
 "nbformat_minor": 2
}
