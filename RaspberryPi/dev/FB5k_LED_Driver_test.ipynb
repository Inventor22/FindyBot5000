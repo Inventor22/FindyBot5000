{
 "cells": [
  {
   "cell_type": "code",
   "execution_count": 1,
   "metadata": {},
   "outputs": [],
   "source": []
  },
  {
   "cell_type": "code",
   "execution_count": 2,
   "metadata": {},
   "outputs": [
    {
     "name": "stdout",
     "output_type": "stream",
     "text": [
      "b'FindyBot5000\\r\\n'\n",
      "b'Framebuffer_GFX::begin Width: 60 Height: 14 Num Pixels: 840\\r\\n'\n"
     ]
    }
   ],
   "source": [
    "import serial\n",
    "import threading\n",
    "import struct\n",
    "\n",
    "from color import Color\n",
    "\n",
    "class SerialReader:\n",
    "    def __init__(self, port, baudrate, callback):\n",
    "        self.serial_port = serial.Serial(port, baudrate)\n",
    "        self.callback = callback\n",
    "        self.read_thread = threading.Thread(target=self.read_loop)\n",
    "        #self.read_thread.daemon = True\n",
    "        self.read_thread.start()\n",
    "\n",
    "    def read_loop(self):\n",
    "        while True:\n",
    "            data = self.serial_port.readline()#.decode('ascii')\n",
    "            self.callback(data)\n",
    "\n",
    "    def close(self):\n",
    "        self.serial_port.close()\n",
    "\n",
    "def print_received_data(data):\n",
    "    print(data)\n",
    "\n",
    "# Windows:\n",
    "serial_reader = SerialReader(\"COM7\", 115200, print_received_data)\n",
    "serial_reader = SerialReader(\"/dev/ttyACM0\", 115200, print_received_data)\n"
   ]
  },
  {
   "cell_type": "code",
   "execution_count": 3,
   "metadata": {},
   "outputs": [],
   "source": [
    "def send_pixel_color(row, col, color):\n",
    "    red = (color >> 16) & 0xFF\n",
    "    green = (color >> 8) & 0xFF\n",
    "    blue = color & 0xFF\n",
    "    cmd = struct.pack('!BBBBBBBBB', 0xAA, 0x01, row, col, red, green, blue, 0x55, 0x0A)\n",
    "    serial_reader.serial_port.write(cmd)\n",
    "\n",
    "    # line = serial_reader.serial_port.readline()\n",
    "    # print(line)\n",
    "\n",
    "def set_relay(state):\n",
    "    cmd = struct.pack('!BBBBB', 0xAA, 0x02, 0x01 if state else 0x00, 0x55, 0x0A)\n",
    "    serial_reader.serial_port.write(cmd)\n",
    "    \n",
    "    # line = serial_reader.serial_port.readline()\n",
    "    # print(line)\n",
    "\n",
    "def light_boxes():\n",
    "    cmd = struct.pack('!BBBB', 0xAA, 0x04, 0x55, 0x0A)\n",
    "    serial_reader.serial_port.write(cmd)\n",
    "\n",
    "def clear_display():\n",
    "    cmd = struct.pack('!BBBB', 0xAA, 0x03, 0x55, 0x0A)\n",
    "    serial_reader.serial_port.write(cmd)"
   ]
  },
  {
   "cell_type": "code",
   "execution_count": 4,
   "metadata": {},
   "outputs": [
    {
     "name": "stdout",
     "output_type": "stream",
     "text": [
      "240 248 255\n"
     ]
    }
   ],
   "source": [
    "def col(row, col, color):\n",
    "    red = (color >> 16) & 0xFF\n",
    "    green = (color >> 8) & 0xFF\n",
    "    blue = color & 0xFF\n",
    "    print(red, green, blue)\n",
    "\n",
    "col(0,0,Colors.AliceBlue)"
   ]
  },
  {
   "cell_type": "code",
   "execution_count": 5,
   "metadata": {},
   "outputs": [
    {
     "name": "stdout",
     "output_type": "stream",
     "text": [
      "b'Incoming char: \\xaa\\r\\n'\n",
      "b'Incoming char: \\x02\\r\\n'\n"
     ]
    },
    {
     "name": "stdout",
     "output_type": "stream",
     "text": [
      "b'Incoming char: \\x01\\r\\n'\n",
      "b'Incoming char: U\\r\\n'\n",
      "b'Incoming char: \\n'\n",
      "b'\\r\\n'\n",
      "b'Received command: \\xaa\\x02\\x01U|\\r\\n'\n",
      "b'Turning Display ON\\r\\n'\n"
     ]
    }
   ],
   "source": [
    "set_relay(True)"
   ]
  },
  {
   "cell_type": "code",
   "execution_count": 11,
   "metadata": {},
   "outputs": [
    {
     "name": "stdout",
     "output_type": "stream",
     "text": [
      "b'Incoming char: \\xaa\\r\\n'\n",
      "b'Incoming char: \\x02\\r\\n'\n"
     ]
    },
    {
     "name": "stdout",
     "output_type": "stream",
     "text": [
      "b'Incoming char: \\x00\\r\\n'\n",
      "b'Incoming char: U\\r\\n'\n",
      "b'Incoming char: \\n'\n",
      "b'\\r\\n'\n",
      "b'Received command: \\xaa\\x02\\x00U|\\r\\n'\n",
      "b'Turning Display OFF\\r\\n'\n"
     ]
    }
   ],
   "source": [
    "set_relay(False)"
   ]
  },
  {
   "cell_type": "code",
   "execution_count": 6,
   "metadata": {},
   "outputs": [
    {
     "name": "stdout",
     "output_type": "stream",
     "text": [
      "b'Incoming char: \\xaa\\r\\n'\n"
     ]
    },
    {
     "name": "stdout",
     "output_type": "stream",
     "text": [
      "b'Incoming char: \\x01\\r\\n'\n",
      "b'Incoming char: \\x01\\r\\n'\n",
      "b'Incoming char: \\x05\\r\\n'\n",
      "b'Incoming char: \\x00\\r\\n'\n",
      "b'Incoming char: \\x8b\\r\\n'\n",
      "b'Incoming char: \\x8b\\r\\n'\n",
      "b'Incoming char: U\\r\\n'\n",
      "b'Incoming char: \\n'\n",
      "b'\\r\\n'\n",
      "b'Received command: \\xaa\\x01\\x01\\x05\\x00\\x8b\\x8bU|\\r\\n'\n",
      "b'Lighting box [1, 5] with color (\\x00,\\x8b,\\x8b)\\r\\n'\n"
     ]
    }
   ],
   "source": [
    "send_pixel_color(1, 5, Colors.DarkCyan)"
   ]
  },
  {
   "cell_type": "code",
   "execution_count": 7,
   "metadata": {},
   "outputs": [
    {
     "name": "stdout",
     "output_type": "stream",
     "text": [
      "b'Incoming char: \\xaa\\r\\n'\n"
     ]
    },
    {
     "name": "stdout",
     "output_type": "stream",
     "text": [
      "b'Incoming char: \\x03\\r\\n'\n",
      "b'Incoming char: U\\r\\n'\n",
      "b'Incoming char: \\n'\n",
      "b'\\r\\n'\n",
      "b'Received command: \\xaa\\x03U|\\r\\n'\n"
     ]
    },
    {
     "name": "stderr",
     "output_type": "stream",
     "text": [
      "Exception in thread Thread-3 (read_loop):\n",
      "Traceback (most recent call last):\n",
      "  File \"c:\\Users\\Dustin\\miniconda3\\envs\\FindyBot5000\\Lib\\threading.py\", line 1038, in _bootstrap_inner\n",
      "    self.run()\n",
      "  File \"c:\\Users\\Dustin\\miniconda3\\envs\\FindyBot5000\\Lib\\threading.py\", line 975, in run\n",
      "    self._target(*self._args, **self._kwargs)\n",
      "  File \"C:\\Users\\Dustin\\AppData\\Local\\Temp\\ipykernel_18196\\634009601.py\", line 15, in read_loop\n",
      "  File \"c:\\Users\\Dustin\\miniconda3\\envs\\FindyBot5000\\Lib\\site-packages\\serial\\serialwin32.py\", line 273, in read\n",
      "    raise SerialException(\"ClearCommError failed ({!r})\".format(ctypes.WinError()))\n",
      "serial.serialutil.SerialException: ClearCommError failed (PermissionError(13, 'The device does not recognize the command.', None, 22))\n"
     ]
    },
    {
     "name": "stdout",
     "output_type": "stream",
     "text": [
      "b''\n"
     ]
    }
   ],
   "source": [
    "clear_display()"
   ]
  },
  {
   "cell_type": "code",
   "execution_count": 10,
   "metadata": {},
   "outputs": [
    {
     "name": "stdout",
     "output_type": "stream",
     "text": [
      "b'Incoming char: \\xaa\\r\\n'\n"
     ]
    },
    {
     "name": "stdout",
     "output_type": "stream",
     "text": [
      "b'Incoming char: \\x04\\r\\n'\n",
      "b'Incoming char: U\\r\\n'\n",
      "b'Incoming char: \\n'\n",
      "b'\\r\\n'\n",
      "b'Received command: \\xaa\\x04U|\\r\\n'\n",
      "b'0\\r\\n'\n",
      "b'1\\r\\n'\n",
      "b'2\\r\\n'\n",
      "b'3\\r\\n'\n",
      "b'4\\r\\n'\n",
      "b'5\\r\\n'\n",
      "b'6\\r\\n'\n",
      "b'7\\r\\n'\n",
      "b'8\\r\\n'\n",
      "b'9\\r\\n'\n",
      "b'10\\r\\n'\n",
      "b'11\\r\\n'\n",
      "b'12\\r\\n'\n",
      "b'13\\r\\n'\n",
      "b'14\\r\\n'\n",
      "b'15\\r\\n'\n",
      "b'16\\r\\n'\n",
      "b'17\\r\\n'\n",
      "b'18\\r\\n'\n",
      "b'19\\r\\n'\n",
      "b'20\\r\\n'\n"
     ]
    }
   ],
   "source": [
    "light_boxes()"
   ]
  },
  {
   "cell_type": "code",
   "execution_count": 8,
   "metadata": {},
   "outputs": [
    {
     "name": "stdout",
     "output_type": "stream",
     "text": [
      "b''\n"
     ]
    },
    {
     "name": "stderr",
     "output_type": "stream",
     "text": [
      "Exception in thread Thread-3 (read_loop):\n",
      "Traceback (most recent call last):\n",
      "  File \"c:\\Users\\Dustin\\miniconda3\\envs\\FindyBot5000\\Lib\\threading.py\", line 1038, in _bootstrap_inner\n",
      "    self.run()\n",
      "  File \"c:\\Users\\Dustin\\miniconda3\\envs\\FindyBot5000\\Lib\\threading.py\", line 975, in run\n",
      "    self._target(*self._args, **self._kwargs)\n",
      "  File \"C:\\Users\\Dustin\\AppData\\Local\\Temp\\ipykernel_11068\\634009601.py\", line 15, in read_loop\n",
      "  File \"c:\\Users\\Dustin\\miniconda3\\envs\\FindyBot5000\\Lib\\site-packages\\serial\\serialwin32.py\", line 283, in read\n",
      "    ctypes.byref(self._overlapped_read))\n",
      "    ^^^^^^^^^^^^^^^^^^^^^^^^^^^^^^^^^^^\n",
      "TypeError: byref() argument must be a ctypes instance, not 'NoneType'\n"
     ]
    }
   ],
   "source": [
    "serial_reader.close()"
   ]
  },
  {
   "cell_type": "code",
   "execution_count": null,
   "metadata": {},
   "outputs": [],
   "source": []
  }
 ],
 "metadata": {
  "kernelspec": {
   "display_name": "FindyBot5000",
   "language": "python",
   "name": "python3"
  },
  "language_info": {
   "codemirror_mode": {
    "name": "ipython",
    "version": 3
   },
   "file_extension": ".py",
   "mimetype": "text/x-python",
   "name": "python",
   "nbconvert_exporter": "python",
   "pygments_lexer": "ipython3",
   "version": "3.11.3"
  },
  "orig_nbformat": 4
 },
 "nbformat": 4,
 "nbformat_minor": 2
}
