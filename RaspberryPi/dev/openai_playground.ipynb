{
 "cells": [
  {
   "attachments": {},
   "cell_type": "markdown",
   "metadata": {},
   "source": [
    "Test out OpenAI's Large Language Model (LLM) API"
   ]
  },
  {
   "cell_type": "code",
   "execution_count": 1,
   "metadata": {},
   "outputs": [],
   "source": [
    "import openai\n",
    "import os\n",
    "\n",
    "key = os.environ.get('OPENAI_API_KEY')\n",
    "openai.api_key = key"
   ]
  },
  {
   "cell_type": "code",
   "execution_count": 2,
   "metadata": {},
   "outputs": [],
   "source": [
    "#print(key)"
   ]
  },
  {
   "cell_type": "code",
   "execution_count": 2,
   "metadata": {},
   "outputs": [
    {
     "ename": "InvalidRequestError",
     "evalue": "The model: `gpt-4` does not exist",
     "output_type": "error",
     "traceback": [
      "\u001b[1;31m---------------------------------------------------------------------------\u001b[0m",
      "\u001b[1;31mInvalidRequestError\u001b[0m                       Traceback (most recent call last)",
      "Cell \u001b[1;32mIn[2], line 1\u001b[0m\n\u001b[1;32m----> 1\u001b[0m response \u001b[39m=\u001b[39m openai\u001b[39m.\u001b[39;49mCompletion\u001b[39m.\u001b[39;49mcreate(\n\u001b[0;32m      2\u001b[0m     \u001b[39m#engine=\"text-davinci-002\",\u001b[39;49;00m\n\u001b[0;32m      3\u001b[0m     engine\u001b[39m=\u001b[39;49m\u001b[39m\"\u001b[39;49m\u001b[39mgpt-4\u001b[39;49m\u001b[39m\"\u001b[39;49m,\n\u001b[0;32m      4\u001b[0m     prompt\u001b[39m=\u001b[39;49m\u001b[39m\"\u001b[39;49m\u001b[39mWhat is the capital of France?\u001b[39;49m\u001b[39m\"\u001b[39;49m,\n\u001b[0;32m      5\u001b[0m     max_tokens\u001b[39m=\u001b[39;49m\u001b[39m1024\u001b[39;49m,\n\u001b[0;32m      6\u001b[0m     n\u001b[39m=\u001b[39;49m\u001b[39m1\u001b[39;49m,\n\u001b[0;32m      7\u001b[0m     stop\u001b[39m=\u001b[39;49m\u001b[39mNone\u001b[39;49;00m,\n\u001b[0;32m      8\u001b[0m     temperature\u001b[39m=\u001b[39;49m\u001b[39m0.5\u001b[39;49m,\n\u001b[0;32m      9\u001b[0m )\n\u001b[0;32m     11\u001b[0m generated_text \u001b[39m=\u001b[39m response[\u001b[39m\"\u001b[39m\u001b[39mchoices\u001b[39m\u001b[39m\"\u001b[39m][\u001b[39m0\u001b[39m][\u001b[39m\"\u001b[39m\u001b[39mtext\u001b[39m\u001b[39m\"\u001b[39m]\n\u001b[0;32m     12\u001b[0m \u001b[39mprint\u001b[39m(generated_text)\n",
      "File \u001b[1;32mc:\\Users\\Dustin\\miniconda3\\envs\\FindyBot5000\\Lib\\site-packages\\openai\\api_resources\\completion.py:25\u001b[0m, in \u001b[0;36mCompletion.create\u001b[1;34m(cls, *args, **kwargs)\u001b[0m\n\u001b[0;32m     23\u001b[0m \u001b[39mwhile\u001b[39;00m \u001b[39mTrue\u001b[39;00m:\n\u001b[0;32m     24\u001b[0m     \u001b[39mtry\u001b[39;00m:\n\u001b[1;32m---> 25\u001b[0m         \u001b[39mreturn\u001b[39;00m \u001b[39msuper\u001b[39;49m()\u001b[39m.\u001b[39;49mcreate(\u001b[39m*\u001b[39;49margs, \u001b[39m*\u001b[39;49m\u001b[39m*\u001b[39;49mkwargs)\n\u001b[0;32m     26\u001b[0m     \u001b[39mexcept\u001b[39;00m TryAgain \u001b[39mas\u001b[39;00m e:\n\u001b[0;32m     27\u001b[0m         \u001b[39mif\u001b[39;00m timeout \u001b[39mis\u001b[39;00m \u001b[39mnot\u001b[39;00m \u001b[39mNone\u001b[39;00m \u001b[39mand\u001b[39;00m time\u001b[39m.\u001b[39mtime() \u001b[39m>\u001b[39m start \u001b[39m+\u001b[39m timeout:\n",
      "File \u001b[1;32mc:\\Users\\Dustin\\miniconda3\\envs\\FindyBot5000\\Lib\\site-packages\\openai\\api_resources\\abstract\\engine_api_resource.py:153\u001b[0m, in \u001b[0;36mEngineAPIResource.create\u001b[1;34m(cls, api_key, api_base, api_type, request_id, api_version, organization, **params)\u001b[0m\n\u001b[0;32m    127\u001b[0m \u001b[39m@classmethod\u001b[39m\n\u001b[0;32m    128\u001b[0m \u001b[39mdef\u001b[39;00m \u001b[39mcreate\u001b[39m(\n\u001b[0;32m    129\u001b[0m     \u001b[39mcls\u001b[39m,\n\u001b[1;32m   (...)\u001b[0m\n\u001b[0;32m    136\u001b[0m     \u001b[39m*\u001b[39m\u001b[39m*\u001b[39mparams,\n\u001b[0;32m    137\u001b[0m ):\n\u001b[0;32m    138\u001b[0m     (\n\u001b[0;32m    139\u001b[0m         deployment_id,\n\u001b[0;32m    140\u001b[0m         engine,\n\u001b[1;32m   (...)\u001b[0m\n\u001b[0;32m    150\u001b[0m         api_key, api_base, api_type, api_version, organization, \u001b[39m*\u001b[39m\u001b[39m*\u001b[39mparams\n\u001b[0;32m    151\u001b[0m     )\n\u001b[1;32m--> 153\u001b[0m     response, _, api_key \u001b[39m=\u001b[39m requestor\u001b[39m.\u001b[39;49mrequest(\n\u001b[0;32m    154\u001b[0m         \u001b[39m\"\u001b[39;49m\u001b[39mpost\u001b[39;49m\u001b[39m\"\u001b[39;49m,\n\u001b[0;32m    155\u001b[0m         url,\n\u001b[0;32m    156\u001b[0m         params\u001b[39m=\u001b[39;49mparams,\n\u001b[0;32m    157\u001b[0m         headers\u001b[39m=\u001b[39;49mheaders,\n\u001b[0;32m    158\u001b[0m         stream\u001b[39m=\u001b[39;49mstream,\n\u001b[0;32m    159\u001b[0m         request_id\u001b[39m=\u001b[39;49mrequest_id,\n\u001b[0;32m    160\u001b[0m         request_timeout\u001b[39m=\u001b[39;49mrequest_timeout,\n\u001b[0;32m    161\u001b[0m     )\n\u001b[0;32m    163\u001b[0m     \u001b[39mif\u001b[39;00m stream:\n\u001b[0;32m    164\u001b[0m         \u001b[39m# must be an iterator\u001b[39;00m\n\u001b[0;32m    165\u001b[0m         \u001b[39massert\u001b[39;00m \u001b[39mnot\u001b[39;00m \u001b[39misinstance\u001b[39m(response, OpenAIResponse)\n",
      "File \u001b[1;32mc:\\Users\\Dustin\\miniconda3\\envs\\FindyBot5000\\Lib\\site-packages\\openai\\api_requestor.py:226\u001b[0m, in \u001b[0;36mAPIRequestor.request\u001b[1;34m(self, method, url, params, headers, files, stream, request_id, request_timeout)\u001b[0m\n\u001b[0;32m    205\u001b[0m \u001b[39mdef\u001b[39;00m \u001b[39mrequest\u001b[39m(\n\u001b[0;32m    206\u001b[0m     \u001b[39mself\u001b[39m,\n\u001b[0;32m    207\u001b[0m     method,\n\u001b[1;32m   (...)\u001b[0m\n\u001b[0;32m    214\u001b[0m     request_timeout: Optional[Union[\u001b[39mfloat\u001b[39m, Tuple[\u001b[39mfloat\u001b[39m, \u001b[39mfloat\u001b[39m]]] \u001b[39m=\u001b[39m \u001b[39mNone\u001b[39;00m,\n\u001b[0;32m    215\u001b[0m ) \u001b[39m-\u001b[39m\u001b[39m>\u001b[39m Tuple[Union[OpenAIResponse, Iterator[OpenAIResponse]], \u001b[39mbool\u001b[39m, \u001b[39mstr\u001b[39m]:\n\u001b[0;32m    216\u001b[0m     result \u001b[39m=\u001b[39m \u001b[39mself\u001b[39m\u001b[39m.\u001b[39mrequest_raw(\n\u001b[0;32m    217\u001b[0m         method\u001b[39m.\u001b[39mlower(),\n\u001b[0;32m    218\u001b[0m         url,\n\u001b[1;32m   (...)\u001b[0m\n\u001b[0;32m    224\u001b[0m         request_timeout\u001b[39m=\u001b[39mrequest_timeout,\n\u001b[0;32m    225\u001b[0m     )\n\u001b[1;32m--> 226\u001b[0m     resp, got_stream \u001b[39m=\u001b[39m \u001b[39mself\u001b[39;49m\u001b[39m.\u001b[39;49m_interpret_response(result, stream)\n\u001b[0;32m    227\u001b[0m     \u001b[39mreturn\u001b[39;00m resp, got_stream, \u001b[39mself\u001b[39m\u001b[39m.\u001b[39mapi_key\n",
      "File \u001b[1;32mc:\\Users\\Dustin\\miniconda3\\envs\\FindyBot5000\\Lib\\site-packages\\openai\\api_requestor.py:619\u001b[0m, in \u001b[0;36mAPIRequestor._interpret_response\u001b[1;34m(self, result, stream)\u001b[0m\n\u001b[0;32m    611\u001b[0m     \u001b[39mreturn\u001b[39;00m (\n\u001b[0;32m    612\u001b[0m         \u001b[39mself\u001b[39m\u001b[39m.\u001b[39m_interpret_response_line(\n\u001b[0;32m    613\u001b[0m             line, result\u001b[39m.\u001b[39mstatus_code, result\u001b[39m.\u001b[39mheaders, stream\u001b[39m=\u001b[39m\u001b[39mTrue\u001b[39;00m\n\u001b[0;32m    614\u001b[0m         )\n\u001b[0;32m    615\u001b[0m         \u001b[39mfor\u001b[39;00m line \u001b[39min\u001b[39;00m parse_stream(result\u001b[39m.\u001b[39miter_lines())\n\u001b[0;32m    616\u001b[0m     ), \u001b[39mTrue\u001b[39;00m\n\u001b[0;32m    617\u001b[0m \u001b[39melse\u001b[39;00m:\n\u001b[0;32m    618\u001b[0m     \u001b[39mreturn\u001b[39;00m (\n\u001b[1;32m--> 619\u001b[0m         \u001b[39mself\u001b[39;49m\u001b[39m.\u001b[39;49m_interpret_response_line(\n\u001b[0;32m    620\u001b[0m             result\u001b[39m.\u001b[39;49mcontent\u001b[39m.\u001b[39;49mdecode(\u001b[39m\"\u001b[39;49m\u001b[39mutf-8\u001b[39;49m\u001b[39m\"\u001b[39;49m),\n\u001b[0;32m    621\u001b[0m             result\u001b[39m.\u001b[39;49mstatus_code,\n\u001b[0;32m    622\u001b[0m             result\u001b[39m.\u001b[39;49mheaders,\n\u001b[0;32m    623\u001b[0m             stream\u001b[39m=\u001b[39;49m\u001b[39mFalse\u001b[39;49;00m,\n\u001b[0;32m    624\u001b[0m         ),\n\u001b[0;32m    625\u001b[0m         \u001b[39mFalse\u001b[39;00m,\n\u001b[0;32m    626\u001b[0m     )\n",
      "File \u001b[1;32mc:\\Users\\Dustin\\miniconda3\\envs\\FindyBot5000\\Lib\\site-packages\\openai\\api_requestor.py:682\u001b[0m, in \u001b[0;36mAPIRequestor._interpret_response_line\u001b[1;34m(self, rbody, rcode, rheaders, stream)\u001b[0m\n\u001b[0;32m    680\u001b[0m stream_error \u001b[39m=\u001b[39m stream \u001b[39mand\u001b[39;00m \u001b[39m\"\u001b[39m\u001b[39merror\u001b[39m\u001b[39m\"\u001b[39m \u001b[39min\u001b[39;00m resp\u001b[39m.\u001b[39mdata\n\u001b[0;32m    681\u001b[0m \u001b[39mif\u001b[39;00m stream_error \u001b[39mor\u001b[39;00m \u001b[39mnot\u001b[39;00m \u001b[39m200\u001b[39m \u001b[39m<\u001b[39m\u001b[39m=\u001b[39m rcode \u001b[39m<\u001b[39m \u001b[39m300\u001b[39m:\n\u001b[1;32m--> 682\u001b[0m     \u001b[39mraise\u001b[39;00m \u001b[39mself\u001b[39m\u001b[39m.\u001b[39mhandle_error_response(\n\u001b[0;32m    683\u001b[0m         rbody, rcode, resp\u001b[39m.\u001b[39mdata, rheaders, stream_error\u001b[39m=\u001b[39mstream_error\n\u001b[0;32m    684\u001b[0m     )\n\u001b[0;32m    685\u001b[0m \u001b[39mreturn\u001b[39;00m resp\n",
      "\u001b[1;31mInvalidRequestError\u001b[0m: The model: `gpt-4` does not exist"
     ]
    }
   ],
   "source": [
    "response = openai.Completion.create(\n",
    "    engine=\"text-davinci-002\",\n",
    "    #engine=\"gpt-4\",\n",
    "    prompt=\"What is the capital of France?\",\n",
    "    max_tokens=1024,\n",
    "    n=1,\n",
    "    stop=None,\n",
    "    temperature=0.5,\n",
    ")\n",
    "\n",
    "generated_text = response[\"choices\"][0][\"text\"]\n",
    "print(generated_text)"
   ]
  },
  {
   "cell_type": "code",
   "execution_count": 10,
   "metadata": {},
   "outputs": [
    {
     "data": {
      "text/plain": [
       "<OpenAIObject text_completion id=cmpl-73Z2QF7gPXyztdivs4bDqY0LdLkdA at 0x1f2564d3470> JSON: {\n",
       "  \"choices\": [\n",
       "    {\n",
       "      \"finish_reason\": \"stop\",\n",
       "      \"index\": 0,\n",
       "      \"logprobs\": null,\n",
       "      \"text\": \"\\n\\nParis\"\n",
       "    }\n",
       "  ],\n",
       "  \"created\": 1681084026,\n",
       "  \"id\": \"cmpl-73Z2QF7gPXyztdivs4bDqY0LdLkdA\",\n",
       "  \"model\": \"text-davinci-002\",\n",
       "  \"object\": \"text_completion\",\n",
       "  \"usage\": {\n",
       "    \"completion_tokens\": 3,\n",
       "    \"prompt_tokens\": 27,\n",
       "    \"total_tokens\": 30\n",
       "  }\n",
       "}"
      ]
     },
     "execution_count": 10,
     "metadata": {},
     "output_type": "execute_result"
    }
   ],
   "source": [
    "response"
   ]
  },
  {
   "cell_type": "code",
   "execution_count": 7,
   "metadata": {},
   "outputs": [
    {
     "name": "stdout",
     "output_type": "stream",
     "text": [
      "\n",
      "\n",
      "Paris\n"
     ]
    }
   ],
   "source": [
    "response = openai.Completion.create(\n",
    "    engine=\"text-davinci-002\",\n",
    "    prompt=\"What is the capital of France? Respond with only the capital. If the provided place has no captial, reply with 'None'\",\n",
    "    max_tokens=1024,\n",
    "    n=1,\n",
    "    stop=None,\n",
    "    temperature=0.5,\n",
    ")\n",
    "\n",
    "generated_text = response[\"choices\"][0][\"text\"]\n",
    "print(generated_text)"
   ]
  },
  {
   "attachments": {},
   "cell_type": "markdown",
   "metadata": {},
   "source": [
    "Test out OpenAI's Whisper API - Voice to Text"
   ]
  },
  {
   "cell_type": "code",
   "execution_count": 8,
   "metadata": {},
   "outputs": [],
   "source": [
    "# FindyBot5000-assets is a separate private github repo. Feel free to add your own assets by modifying the string below.\n",
    "audio_file= open(r\"..\\FindyBot5000-assets\\audio\\test_inputs\\FindyBot5000 test audio.mp3\", \"rb\")\n",
    "transcript = openai.Audio.transcribe(\"whisper-1\", audio_file)"
   ]
  },
  {
   "cell_type": "code",
   "execution_count": 9,
   "metadata": {},
   "outputs": [
    {
     "name": "stdout",
     "output_type": "stream",
     "text": [
      "text Hello world, this is a test for a FindyBot 5000.\n"
     ]
    }
   ],
   "source": [
    "for k,v in transcript.items():\n",
    "    print(k,v)"
   ]
  },
  {
   "cell_type": "code",
   "execution_count": 11,
   "metadata": {},
   "outputs": [
    {
     "name": "stdout",
     "output_type": "stream",
     "text": [
      "Hello world, this is a test for a FindyBot 5000.\n"
     ]
    }
   ],
   "source": [
    "spoken_request = transcript['text']\n",
    "print(spoken_request)"
   ]
  },
  {
   "attachments": {},
   "cell_type": "markdown",
   "metadata": {},
   "source": [
    "Test Whisper + LLM. <br>\n",
    "A spoken command will be along the lines of:<br>\n",
    "\"Hey FindyBot, I'm looking for red leds, can you give me a hand?\"\n",
    "1. Whisper will be used to parse Text from Audio\n",
    "2. text-davinci LLM will be used to extract the relevant item from the query, in this case 'red led'"
   ]
  },
  {
   "cell_type": "code",
   "execution_count": 3,
   "metadata": {},
   "outputs": [],
   "source": [
    "def return_searched_item(audio_path: str) -> tuple[str, str]:\n",
    "\n",
    "    # Whisper\n",
    "    leds_audio_file= open(audio_path, \"rb\")\n",
    "    leds_transcript = openai.Audio.transcribe(\"whisper-1\", leds_audio_file)\n",
    "    leds_text = leds_transcript['text']\n",
    "\n",
    "    # text-davinci LLM\n",
    "    leds_response = openai.Completion.create(\n",
    "        engine=\"text-davinci-002\",\n",
    "        prompt=f\"Extract the item I am looking for from the following text. Respond with only the item. Make any plural words or acronyms in the response singular. Here is the text: '{leds_text}'\",\n",
    "        max_tokens=1024,\n",
    "        n=1,\n",
    "        stop=None,\n",
    "        temperature=0.5,\n",
    "    )\n",
    "\n",
    "    leds_generated_text = leds_response[\"choices\"][0][\"text\"]\n",
    "    return leds_text, leds_generated_text\n"
   ]
  },
  {
   "cell_type": "code",
   "execution_count": 18,
   "metadata": {},
   "outputs": [
    {
     "name": "stdout",
     "output_type": "stream",
     "text": [
      "Hey Findy Bot, I'm looking for my red LEDs. Can you give me a hand? \n",
      "\n",
      "red LEDs\n"
     ]
    }
   ],
   "source": [
    "text, item = return_searched_item(r\"..\\FindyBot5000-assets\\audio\\test_inputs\\red leds2.mp3\")\n",
    "print(text, item)"
   ]
  },
  {
   "cell_type": "code",
   "execution_count": 4,
   "metadata": {},
   "outputs": [
    {
     "name": "stdout",
     "output_type": "stream",
     "text": [
      "Hey, FinyBot, where are my AAA batteries? \n",
      "\n",
      "AAA batteries\n"
     ]
    }
   ],
   "source": [
    "text, item = return_searched_item(r\"..\\FindyBot5000-assets\\audio\\test_inputs\\AAA batteries.mp3\")\n",
    "print(text, item)"
   ]
  },
  {
   "attachments": {},
   "cell_type": "markdown",
   "metadata": {},
   "source": [
    "Print speech components using PocketSphinx"
   ]
  },
  {
   "cell_type": "code",
   "execution_count": 1,
   "metadata": {},
   "outputs": [
    {
     "name": "stdout",
     "output_type": "stream",
     "text": [
      "okay testing one two three jarvis it\n",
      "jarvis\n",
      "a generous\n",
      "a jarvis\n",
      "jarvis\n",
      "quick\n",
      "quit\n"
     ]
    }
   ],
   "source": [
    "from pocketsphinx import LiveSpeech\n",
    "for phrase in LiveSpeech(): print(phrase)"
   ]
  },
  {
   "attachments": {
    "image.png": {
     "image/png": "[encoded data removed]"
    }
   },
   "cell_type": "markdown",
   "metadata": {},
   "source": [
    "Here's a screenshot of speech recognition with Sphinx. It leaves a little something to be desired...<br>\n",
    "![image.png](attachment:image.png)"
   ]
  },
  {
   "cell_type": "code",
   "execution_count": 6,
   "metadata": {},
   "outputs": [
    {
     "name": "stdout",
     "output_type": "stream",
     "text": [
      "[('jarvis', -705, 79, 146)]\n",
      "['jarvis']\n"
     ]
    }
   ],
   "source": [
    "# Lets see how well keywords can be detected.\n",
    "from pocketsphinx import LiveSpeech\n",
    "\n",
    "speech = LiveSpeech(lm=False, keyphrase='jarvis', kws_threshold=1e-20)\n",
    "for phrase in speech:\n",
    "    print(phrase.segments(detailed=True))\n",
    "\n",
    "# Jarvis won by a long shot over Aura, Lumen, Aria, Lyra, Zara"
   ]
  },
  {
   "cell_type": "code",
   "execution_count": 6,
   "metadata": {},
   "outputs": [
    {
     "name": "stdout",
     "output_type": "stream",
     "text": [
      "say something!…\n",
      "Sphinx thinks you said: 'hey jervis where are my red annuities'\n",
      "Whisper thinks you said: 'Hey Jarvis, where are my red LEDs?'\n",
      "say something!…\n",
      "Sphinx thinks you said: 'the jurors were my trip away batteries'\n",
      "say something!…\n",
      "Sphinx thinks you said: 'he jervis where are my triple a. batteries'\n",
      "Whisper thinks you said: 'Hey Jarvis, where are my AAA batteries?'\n",
      "say something!…\n"
     ]
    },
    {
     "ename": "KeyboardInterrupt",
     "evalue": "",
     "output_type": "error",
     "traceback": [
      "\u001b[1;31m---------------------------------------------------------------------------\u001b[0m",
      "\u001b[1;31mKeyboardInterrupt\u001b[0m                         Traceback (most recent call last)",
      "Cell \u001b[1;32mIn[6], line 19\u001b[0m\n\u001b[0;32m     16\u001b[0m \u001b[39m# First try recognize speech using Sphinx, and search the string for any of the keywords\u001b[39;00m\n\u001b[0;32m     17\u001b[0m \u001b[39m# If a keyword is found, pass the raw audio to Whisper to perform full text recognition\u001b[39;00m\n\u001b[0;32m     18\u001b[0m \u001b[39mtry\u001b[39;00m:\n\u001b[1;32m---> 19\u001b[0m     recognized_text \u001b[39m=\u001b[39m r\u001b[39m.\u001b[39;49mrecognize_sphinx(audio)\n\u001b[0;32m     21\u001b[0m     \u001b[39mprint\u001b[39m(\u001b[39m\"\u001b[39m\u001b[39mSphinx thinks you said: \u001b[39m\u001b[39m'\u001b[39m\u001b[39m\"\u001b[39m \u001b[39m+\u001b[39m recognized_text \u001b[39m+\u001b[39m \u001b[39m\"\u001b[39m\u001b[39m'\u001b[39m\u001b[39m\"\u001b[39m)\n\u001b[0;32m     23\u001b[0m     \u001b[39mif\u001b[39;00m \u001b[39many\u001b[39m(keyword \u001b[39min\u001b[39;00m recognized_text\u001b[39m.\u001b[39mlower() \u001b[39mfor\u001b[39;00m keyword \u001b[39min\u001b[39;00m keywords):\n",
      "File \u001b[1;32mc:\\Users\\Dustin\\miniconda3\\envs\\FindyBot5000\\Lib\\site-packages\\speech_recognition\\__init__.py:664\u001b[0m, in \u001b[0;36mRecognizer.recognize_sphinx\u001b[1;34m(self, audio_data, language, keyword_entries, grammar, show_all)\u001b[0m\n\u001b[0;32m    662\u001b[0m decoder\u001b[39m.\u001b[39mstart_utt()  \u001b[39m# begin utterance processing\u001b[39;00m\n\u001b[0;32m    663\u001b[0m decoder\u001b[39m.\u001b[39mprocess_raw(raw_data, \u001b[39mFalse\u001b[39;00m, \u001b[39mTrue\u001b[39;00m)  \u001b[39m# process audio data with recognition enabled (no_search = False), as a full utterance (full_utt = True)\u001b[39;00m\n\u001b[1;32m--> 664\u001b[0m decoder\u001b[39m.\u001b[39;49mend_utt()  \u001b[39m# stop utterance processing\u001b[39;00m\n\u001b[0;32m    666\u001b[0m \u001b[39mif\u001b[39;00m show_all: \u001b[39mreturn\u001b[39;00m decoder\n\u001b[0;32m    668\u001b[0m \u001b[39m# return results\u001b[39;00m\n",
      "\u001b[1;31mKeyboardInterrupt\u001b[0m: "
     ]
    }
   ],
   "source": [
    "import speech_recognition as sr\n",
    "\n",
    "# Sphinx has some trouble getting 'jarvis' every time...\n",
    "keywords = ['jarvis', 'jervis']\n",
    "\n",
    "r = sr.Recognizer()\n",
    "speech = sr.Microphone(device_index=0)\n",
    "\n",
    "while True:\n",
    "    # Listen for a sentence\n",
    "    with speech as source:\n",
    "        print(\"say something!…\")\n",
    "        audio = r.adjust_for_ambient_noise(source)\n",
    "        audio = r.listen(source)\n",
    "    \n",
    "    # First try recognize speech using Sphinx, and search the string for any of the keywords\n",
    "    # If a keyword is found, pass the raw audio to Whisper to perform full text recognition\n",
    "    try:\n",
    "        recognized_text = r.recognize_sphinx(audio)\n",
    "        \n",
    "        print(\"Sphinx thinks you said: '\" + recognized_text + \"'\")\n",
    "\n",
    "        if any(keyword in recognized_text.lower() for keyword in keywords):\n",
    "            whisper_text = r.recognize_whisper_api(audio, model=\"whisper-1\", api_key=key)\n",
    "            print(\"Whisper thinks you said: '\" + whisper_text + \"'\")\n",
    "\n",
    "    except sr.UnknownValueError:\n",
    "        print(\"Sphinx could not understand audio\")  \n",
    "    except sr.RequestError as e:  \n",
    "        print(\"Sphinx error; {0}\".format(e))"
   ]
  },
  {
   "attachments": {},
   "cell_type": "markdown",
   "metadata": {},
   "source": [
    "Basic end to end example:\n",
    "1. Listen for a spoken sentence\n",
    "2. Use Sphinx to determine if the keyword was present\n",
    "3. If so, use Whisper for speech-to-text\n",
    "4. Use text-davinci to extract the item that the user is looking for\n",
    "5. Next up... Synthesize voice from response text"
   ]
  },
  {
   "cell_type": "code",
   "execution_count": null,
   "metadata": {},
   "outputs": [],
   "source": [
    "import speech_recognition as sr\n",
    "\n",
    "# Sphinx has some trouble getting 'jarvis' every time...\n",
    "keywords = ['jarvis', 'jervis']\n",
    "\n",
    "r = sr.Recognizer()\n",
    "speech = sr.Microphone(device_index=0)\n",
    "\n",
    "while True:\n",
    "    # Listen for a sentence\n",
    "    with speech as source:\n",
    "        print(\"Listening for a sentence...\")\n",
    "        audio = r.adjust_for_ambient_noise(source)\n",
    "        audio = r.listen(source)\n",
    "    \n",
    "    # First try recognize speech using Sphinx, and search the string for any of the keywords\n",
    "    # If a keyword is found, pass the raw audio to Whisper to perform full text recognition\n",
    "    try:\n",
    "        recognized_text = r.recognize_sphinx(audio)\n",
    "        \n",
    "        print(f\"Sphinx thinks you said: '{recognized_text}'\")\n",
    "\n",
    "        # If a keyword wasn't found, go back to listening for input\n",
    "        if not any(keyword in recognized_text.lower() for keyword in keywords):\n",
    "            continue\n",
    "\n",
    "        whisper_text = r.recognize_whisper_api(audio, model=\"whisper-1\", api_key=key)\n",
    "        print(f\"Whisper thinks you said: '{whisper_text}'\")\n",
    "        \n",
    "        # text-davinci LLM\n",
    "        openai_response = openai.Completion.create(\n",
    "            engine=\"text-davinci-002\",\n",
    "            prompt=f\"Extract the item I am looking for from the following text. Respond with only the item. Make any plural words or acronyms in the response singular. Here is the text: '{whisper_text}'\",\n",
    "            max_tokens=1024,\n",
    "            n=1,\n",
    "            stop=None,\n",
    "            temperature=0.5,\n",
    "        )\n",
    "\n",
    "        generated_text = openai_response[\"choices\"][0][\"text\"]\n",
    "\n",
    "        print(f\"OpenAI thinks you are looking for: '{generated_text}'\")\n",
    "\n",
    "    except sr.UnknownValueError:\n",
    "        print(\"Sphinx could not understand audio\")  \n",
    "    except sr.RequestError as e:  \n",
    "        print(\"Sphinx error; {0}\".format(e))"
   ]
  },
  {
   "attachments": {},
   "cell_type": "markdown",
   "metadata": {},
   "source": [
    "Hook into ElevenLabs API to synthesize voice"
   ]
  },
  {
   "cell_type": "code",
   "execution_count": 2,
   "metadata": {},
   "outputs": [],
   "source": [
    "import os\n",
    "elevenlabs_api_key = os.environ.get('ELEVENLABS_API_KEY')"
   ]
  },
  {
   "cell_type": "code",
   "execution_count": null,
   "metadata": {},
   "outputs": [],
   "source": [
    "#print(elevenlabs_api_key)"
   ]
  },
  {
   "cell_type": "code",
   "execution_count": 22,
   "metadata": {},
   "outputs": [],
   "source": [
    "from elevenlabslib import *\n",
    "\n",
    "user = ElevenLabsUser(elevenlabs_api_key)\n",
    "voice = user.get_voices_by_name(\"Rachel\")[0]  # This is a list because multiple voices can have the same name\n",
    "\n",
    "voice.play_preview(playInBackground=False)\n",
    "\n",
    "voice.generate_and_play_audio(\"Test.\", playInBackground=False)\n",
    "\n",
    "for historyItem in user.get_history_items():\n",
    "    if historyItem.text == \"Test.\":\n",
    "        # The first items are the newest, so we can stop as soon as we find one.\n",
    "        historyItem.delete()\n",
    "        break"
   ]
  },
  {
   "cell_type": "code",
   "execution_count": 24,
   "metadata": {},
   "outputs": [],
   "source": [
    "voice.generate_and_play_audio(\"Hello! I am Findy Bot, what are you looking for?\", playInBackground=False)"
   ]
  },
  {
   "attachments": {},
   "cell_type": "markdown",
   "metadata": {},
   "source": [
    "Listen for keyword, then listen for sentence, then process text and generate output"
   ]
  },
  {
   "cell_type": "code",
   "execution_count": 9,
   "metadata": {},
   "outputs": [
    {
     "name": "stdout",
     "output_type": "stream",
     "text": [
      "Listening for a sentence...\n",
      "Sphinx thinks you said: 'okay here's the sentence'\n"
     ]
    }
   ],
   "source": [
    "import speech_recognition as sr\n",
    "from pocketsphinx import LiveSpeech\n",
    "\n",
    "r = sr.Recognizer()\n",
    "speech = sr.Microphone(device_index=0)\n",
    "\n",
    "# Step 1: Listen for the keyword\n",
    "keyword_speech = LiveSpeech(lm=False, keyphrase='jarvis', kws_threshold=1e-20)\n",
    "for phrase in keyword_speech:\n",
    "    if phrase.segments()[0] == 'jarvis':\n",
    "        break\n",
    "\n",
    "# Step 2: Listen for a sentence\n",
    "with speech as source:\n",
    "    print(\"Listening for a sentence...\")\n",
    "    audio = r.adjust_for_ambient_noise(source)\n",
    "    audio = r.listen(source)\n",
    "    recognized_text = r.recognize_sphinx(audio)    \n",
    "    print(f\"Sphinx thinks you said: '{recognized_text}'\")"
   ]
  },
  {
   "cell_type": "code",
   "execution_count": 1,
   "metadata": {},
   "outputs": [],
   "source": []
  },
  {
   "cell_type": "code",
   "execution_count": 2,
   "metadata": {},
   "outputs": [
    {
     "name": "stdout",
     "output_type": "stream",
     "text": [
      "Quitting\n"
     ]
    }
   ],
   "source": [
    "import openai\n",
    "import os\n",
    "import speech_recognition as sr\n",
    "from pocketsphinx import LiveSpeech\n",
    "from elevenlabslib import *\n",
    "\n",
    "openai_key = os.environ.get('OPENAI_API_KEY')\n",
    "openai.api_key = openai_key\n",
    "\n",
    "elevenlabs_api_key = os.environ.get('ELEVENLABS_API_KEY')\n",
    "\n",
    "# Sphinx has some trouble getting 'jarvis' every time...\n",
    "keywords = ['jarvis', 'jervis']\n",
    "\n",
    "r = sr.Recognizer()\n",
    "speech = sr.Microphone(device_index=0)\n",
    "user = ElevenLabsUser(elevenlabs_api_key)\n",
    "voice = user.get_voices_by_name(\"Rachel\")[0]  # This is a list because multiple voices can have the same name\n",
    "\n",
    "quit = False\n",
    "\n",
    "while not quit:\n",
    "    # Step 0: Detect a human\n",
    "    # todo\n",
    "\n",
    "    try:\n",
    "        # Step 1: Listen for the keyword\n",
    "        #keyword_speech = LiveSpeech(lm=False, keyphrase='jarvis', kws_threshold=1e-20)\n",
    "        keyword_speech = LiveSpeech()\n",
    "        for phrase in keyword_speech:\n",
    "            words = str(phrase)\n",
    "            if any(keyword in words for keyword in keywords):# 'jarvis' in words or 'jervis' in words:\n",
    "                break\n",
    "            elif 'exit' in words:\n",
    "                quit = True\n",
    "                raise Exception(\"Quitting\")\n",
    "\n",
    "        # Step 2: Listen for a sentence\n",
    "        with speech as source:\n",
    "            print(\"Listening for a sentence...\")\n",
    "            audio = r.adjust_for_ambient_noise(source)\n",
    "            audio = r.listen(source)\n",
    "        \n",
    "        # Step 3: Speech to Text\n",
    "        print(\"Running speech to text with Whisper\")\n",
    "        whisper_text = r.recognize_whisper_api(audio, model=\"whisper-1\", api_key=openai_key)\n",
    "        print(f\"Whisper thinks you said: '{whisper_text}'\")\n",
    "        \n",
    "        # Step 4: Identify items from text using text-davinci LLM\n",
    "        openai_response = openai.Completion.create(\n",
    "            engine=\"text-davinci-002\",\n",
    "            prompt=f\"Extract the item I am looking for from the following text. Respond with only the item. Make any plural words or acronyms in the response singular. Here is the text: '{whisper_text}'\",\n",
    "            max_tokens=1024,\n",
    "            n=1,\n",
    "            stop=None,\n",
    "            temperature=0.5,\n",
    "        )\n",
    "\n",
    "        generated_text = openai_response[\"choices\"][0][\"text\"].strip()\n",
    "\n",
    "        print(f\"OpenAI thinks you are looking for: '{generated_text}'\")\n",
    "\n",
    "        # Step 5: Use the whisper API to synthesize a voice response to the item being looked for\n",
    "        voice.generate_and_play_audio(f\"Great, I'll start looking for your {generated_text}\", playInBackground=False)\n",
    "\n",
    "    except sr.UnknownValueError:\n",
    "        print(\"Sphinx could not understand audio\")  \n",
    "    except sr.RequestError as e:\n",
    "        print(\"Sphinx error; {0}\".format(e))\n",
    "    except Exception as e:\n",
    "        print(e)"
   ]
  },
  {
   "attachments": {
    "image.png": {
     "image/png": "[encoded data removed]"
    }
   },
   "cell_type": "markdown",
   "metadata": {},
   "source": [
    "Example output:<br>\n",
    "![image.png](attachment:image.png)"
   ]
  },
  {
   "attachments": {},
   "cell_type": "markdown",
   "metadata": {},
   "source": [
    "Using text-davinci to generate a friendly comment and a json encoding of the items to find in the same response. Time for some prompt engineering!"
   ]
  },
  {
   "cell_type": "code",
   "execution_count": 19,
   "metadata": {},
   "outputs": [
    {
     "name": "stdout",
     "output_type": "stream",
     "text": [
      "Sure thing, I'm looking for your green LEDs. { \"cmd\": \"find\", \"items\": [\"green LEDs\"] }\n"
     ]
    }
   ],
   "source": [
    "input_text = \"Where are my green LEDs?\"\n",
    "\n",
    "prompt = \\\n",
    "    'A user will ask you to find, update the quantity of, or remove items. ' + \\\n",
    "    'Reply with a friendly message that mentions the items. The response should be a single sentence, followed by json. ' + \\\n",
    "    'If the user is finding an item, the json should be in the format: { \"cmd\": \"find\", \"items\": [\"red LEDs\", \"blue LEDs\"] }.' + \\\n",
    "    'If the user is updating the quantity of an item, the json should be in the format: { \"cmd\": \"update\", \"item\": \"red LEDs\", \"quantity\": 5 }.' + \\\n",
    "    'If the user is removing an item, the json should be in the format: { \"cmd\": \"remove\", \"item\": \"red LEDs\" }.' + \\\n",
    "    f'Text: {input_text}'\n",
    "\n",
    "openai_response = openai.Completion.create(\n",
    "    engine=\"text-davinci-003\",\n",
    "    prompt=prompt,\n",
    "    max_tokens=1024,\n",
    "    n=1,\n",
    "    stop=None,\n",
    "    temperature=0.5,\n",
    ")\n",
    "\n",
    "generated_text = openai_response[\"choices\"][0][\"text\"].strip()\n",
    "\n",
    "print(generated_text)"
   ]
  },
  {
   "attachments": {},
   "cell_type": "raw",
   "metadata": {},
   "source": [
    "Prompt engineering iterations:\n",
    "\n",
    "Q: 'Reply with a friendly message that mentions the items, followed by json.'\n",
    "A: Sure thing! I'll look for your green LEDs. Here is the json for your request: { \"cmd\": \"find\", \"items\": [\"green LEDs\"] }. Let me know if you need anything else.\n",
    "\n",
    "Q: If the user is looking for an item, the json should be in the format: { \"cmd\": \"find\", \"items\": [\"red LEDs\", \"blue LEDs\"] }.\n",
    "A: Sure thing! Let me look for your green LEDs. Here's the json: {\"cmd\":\"find\",\"items\":[\"green LEDs\"]}\n",
    "\n",
    "Q: Reply with a friendly sentence that mentions the items, and append json after but do not mention that the json is appended.\n",
    "A: Sure thing, I'll look for the green LEDs! json { \"cmd\": \"find\", \"items\": [\"green LEDs\"] }\n",
    "\n",
    "Remove: f'You are a friendly inventory manager. ' + \n",
    "Q: Reply with a friendly message that mentions the items and some json.\n",
    "A: Sure, I can help you find your green LEDs. Here's the json I need to do that: { \"cmd\": \"find\", \"items\": [\"green LEDs\"] } Let me know if you need anything else!\n",
    "\n",
    "On the right track, but it's not as friendly anymore:\n",
    "Q: 'Reply with a single sentence that mentions the items, followed by json. '\n",
    "A: I'm looking for green LEDs, json: { \"cmd\": \"find\", \"items\": [\"green LEDs\"] }\n",
    "\n",
    "Asking too much in a single sentence. Let's break it down into steps, as per the openai-cookbook best practices.\n",
    "Q: 'Reply with a single friendly sentence that mentions the items, followed by json. '\n",
    "A: Sure thing, I'll look for your green LEDs. Here's the json: {\"cmd\": \"find\", \"items\": [\"green LEDs\"]}\n",
    "\n",
    "Bingo:\n",
    "Q: Reply with a friendly message that mentions the items. The response should be a single sentence, followed by json. \n",
    "A: I'm happy to help you find your green LEDs. { \"cmd\": \"find\", \"items\": [\"green LEDs\"] }\n",
    "A: Sure thing, I'm looking for your green LEDs. { \"cmd\": \"find\", \"items\": [\"green LEDs\"] }"
   ]
  },
  {
   "cell_type": "code",
   "execution_count": 32,
   "metadata": {},
   "outputs": [],
   "source": [
    "def get_response(question: str) -> str:\n",
    "\n",
    "    prompt = \\\n",
    "        'A user will ask you to find, update the quantity of, or remove items. ' + \\\n",
    "        'Reply with a friendly message that mentions the items. The response should be a single sentence, followed by json. ' + \\\n",
    "        'If the user is finding an item, the json should be in the format: { \"cmd\": \"find\", \"items\": [\"red LEDs\", \"blue LEDs\"] }.' + \\\n",
    "        'If the user is updating the quantity of an item, the json should be in the format: { \"cmd\": \"update\", \"item\": \"red LEDs\", \"quantity\": 5 }.' + \\\n",
    "        'If the user is removing an item, the json should be in the format: { \"cmd\": \"remove\", \"item\": \"red LEDs\" }.' + \\\n",
    "        f'Text: {question}'\n",
    "\n",
    "    openai_response = openai.Completion.create(\n",
    "        engine=\"text-davinci-003\",\n",
    "        prompt=prompt,\n",
    "        max_tokens=1024,\n",
    "        n=1,\n",
    "        stop=None,\n",
    "        temperature=0.5,\n",
    "    )\n",
    "\n",
    "    generated_text = openai_response[\"choices\"][0][\"text\"].strip()\n",
    "\n",
    "    return prompt, generated_text"
   ]
  },
  {
   "cell_type": "code",
   "execution_count": 35,
   "metadata": {},
   "outputs": [
    {
     "name": "stdout",
     "output_type": "stream",
     "text": [
      "Sure thing! Here's the JSON: { \"cmd\": \"update\", \"item\": \"green LEDs\", \"quantity\": 3 }\n"
     ]
    }
   ],
   "source": [
    "question = 'Add three green leds'\n",
    "\n",
    "prompt, response = get_response(question)\n",
    "print(response)"
   ]
  },
  {
   "cell_type": "code",
   "execution_count": 33,
   "metadata": {},
   "outputs": [
    {
     "name": "stdout",
     "output_type": "stream",
     "text": [
      ".\n",
      "\n",
      "Sure thing, I'm removing the blue LEDs. {\"cmd\": \"remove\", \"item\": \"blue LEDs\"}\n"
     ]
    }
   ],
   "source": [
    "question = 'Remove the blue LEDs'\n",
    "\n",
    "prompt, response = get_response(question)\n",
    "#print(prompt)\n",
    "print(response)"
   ]
  },
  {
   "cell_type": "code",
   "execution_count": 34,
   "metadata": {},
   "outputs": [
    {
     "name": "stdout",
     "output_type": "stream",
     "text": [
      "A user will ask you to find, update the quantity of, or remove items. Reply with a friendly message that mentions the items. The response should be a single sentence, followed by json. If the user is finding an item, the json should be in the format: { \"cmd\": \"find\", \"items\": [\"red LEDs\", \"blue LEDs\"] }.If the user is updating the quantity of an item, the json should be in the format: { \"cmd\": \"update\", \"item\": \"red LEDs\", \"quantity\": 5 }.If the user is removing an item, the json should be in the format: { \"cmd\": \"remove\", \"item\": \"red LEDs\" }.Text: I have four AAA batteries left\n",
      "----\n",
      "and need to remove them from inventory.\n",
      "\n",
      "Sure thing, I'll remove the AAA batteries from inventory. { \"cmd\": \"remove\", \"item\": \"AAA batteries\" }\n"
     ]
    }
   ],
   "source": [
    "question = 'I have four AAA batteries left'\n",
    "\n",
    "prompt, response = get_response(question)\n",
    "print(prompt)\n",
    "print(\"----\")\n",
    "print(response)"
   ]
  },
  {
   "cell_type": "raw",
   "metadata": {},
   "source": [
    "A user will ask you to find, update the quantity of, or remove items. Reply with a friendly message that mentions the items. The response should be a single sentence, followed by json. If the user is finding an item, the json should be in the format: { \"cmd\": \"find\", \"items\": [\"red LEDs\", \"blue LEDs\"] }.If the user is updating the quantity of an item, the json should be in the format: { \"cmd\": \"update\", \"item\": \"red LEDs\", \"quantity\": 5 }.If the user is removing an item, the json should be in the format: { \"cmd\": \"remove\", \"item\": \"red LEDs\" }.Text: I have four AAA batteries left\n",
    "----\n",
    ", but I need to get rid of the red LEDs.\n",
    "\n",
    "Sure thing, I'll remove the red LEDs and update the quantity of AAA batteries to four. { \"cmd\": \"remove\", \"item\": \"red LEDs\" }, { \"cmd\": \"update\", \"item\": \"AAA batteries\", \"quantity\": 4 }"
   ]
  },
  {
   "attachments": {},
   "cell_type": "markdown",
   "metadata": {},
   "source": [
    "This isn't working as well as I'd hoped.  Let's try using the ChatCompletion API and asking questions one at a time."
   ]
  },
  {
   "cell_type": "raw",
   "metadata": {},
   "source": []
  },
  {
   "cell_type": "code",
   "execution_count": 41,
   "metadata": {},
   "outputs": [],
   "source": [
    "def get_chatcompletion_response(question: str) -> str:\n",
    "\n",
    "    chat = [\n",
    "        {\"role\": \"user\", \"content\": f'A user will ask you to find, add, or remove items. Reply with a friendly message that mentions the items. The response should be a single sentence. Question: {question}'}\n",
    "    ]\n",
    "\n",
    "    openai_response = openai.ChatCompletion.create(\n",
    "        model=\"gpt-3.5-turbo\",\n",
    "        messages=chat\n",
    "    )\n",
    "\n",
    "    language_response = openai_response[\"choices\"][0][\"message\"]['content'].strip()\n",
    "\n",
    "    chat.append(\n",
    "    {\n",
    "        \"role\": \"assistant\", \n",
    "        \"content\": language_response\n",
    "    })\n",
    "    \n",
    "    chat.append(\n",
    "    {\n",
    "        \"role\": \"user\", \n",
    "        \"content\": \n",
    "            'Given the items from before, reply with json. ' + \\\n",
    "            'If finding items, format as: { \"cmd\": \"find\", \"items\": [\"red LEDs\", \"blue LEDs\"] }. ' + \\\n",
    "            'If adding items, format as: { \"cmd\": \"add\", \"items\": [\"green LEDs\", \"AAA batteries\"] }. ' + \\\n",
    "            'If removing items, format as: { \"cmd\": \"remove\", \"items\": [\"yellow LEDs\", \"twist ties\"] }.'\n",
    "    })\n",
    "\n",
    "    print(chat)\n",
    "\n",
    "    openai_response = openai.ChatCompletion.create(\n",
    "        model=\"gpt-3.5-turbo\",\n",
    "        messages=chat\n",
    "    )\n",
    "\n",
    "    json_response = openai_response[\"choices\"][0][\"message\"]['content'].strip()\n",
    "\n",
    "    return language_response, json_response"
   ]
  },
  {
   "cell_type": "code",
   "execution_count": 43,
   "metadata": {},
   "outputs": [
    {
     "name": "stdout",
     "output_type": "stream",
     "text": [
      "[{'role': 'user', 'content': 'A user will ask you to find, add, or remove items. Reply with a friendly message that mentions the items. The response should be a single sentence. Question: where are my green LEDs?'}, {'role': 'assistant', 'content': 'Let me check where your green LEDs are located.'}, {'role': 'user', 'content': 'Given the items from before, reply with json. If finding items, format as: { \"cmd\": \"find\", \"items\": [\"red LEDs\", \"blue LEDs\"] }. If adding items, format as: { \"cmd\": \"add\", \"items\": [\"green LEDs\", \"AAA batteries\"] }. If removing items, format as: { \"cmd\": \"remove\", \"items\": [\"yellow LEDs\", \"twist ties\"] }.'}]\n",
      "Let me check where your green LEDs are located.\n",
      "{ \"cmd\": \"find\", \"items\": [\"green LEDs\"] }\n"
     ]
    }
   ],
   "source": [
    "lang, json = get_chatcompletion_response(\"where are my green LEDs?\")\n",
    "\n",
    "print(lang)\n",
    "print(json)"
   ]
  },
  {
   "attachments": {},
   "cell_type": "markdown",
   "metadata": {},
   "source": [
    "Try two separate requests:"
   ]
  },
  {
   "cell_type": "code",
   "execution_count": 64,
   "metadata": {},
   "outputs": [],
   "source": [
    "def get_responses(question: str) -> str:\n",
    "\n",
    "    engine = \"text-davinci-003\"\n",
    "\n",
    "    language_prompt = \\\n",
    "        'You are a helpful assistant. A user will ask you to find, add, or remove items. Assume all items can be found.' + \\\n",
    "        'Reply with a friendly message. The message must mention the items. Do not mention where the items are added or removed. It must be a single sentence.' + \\\n",
    "        f'Question: {question}'\n",
    "\n",
    "    openai_response = openai.Completion.create(\n",
    "        engine=engine,\n",
    "        prompt=language_prompt,\n",
    "        max_tokens=1024,\n",
    "        n=1,\n",
    "        stop=None,\n",
    "        temperature=0.5,\n",
    "    )\n",
    "\n",
    "    language_response = openai_response[\"choices\"][0][\"text\"].strip()\n",
    "\n",
    "    json_prompt = \\\n",
    "        'You are a helpful assistant. You are asked to find, add, or remove items. Reply with json only. ' + \\\n",
    "        'If finding items, format as: { \"cmd\": \"find\", \"items\": [\"red LEDs\", \"blue LEDs\"] }. ' + \\\n",
    "        'If adding items, format as: { \"cmd\": \"add\", \"items\": [\"green LEDs\"] }. ' + \\\n",
    "        'If removing items, format as: { \"cmd\": \"remove\", \"items\": [\"yellow LEDs\", \"twist ties\", \"9V battery\"] }.' + \\\n",
    "       f'Question: {question}'\n",
    "    \n",
    "    openai_response = openai.Completion.create(\n",
    "        engine=engine,\n",
    "        prompt=json_prompt,\n",
    "        max_tokens=1024,\n",
    "        n=1,\n",
    "        stop=None,\n",
    "        temperature=0.5,\n",
    "    )\n",
    "\n",
    "    json_response = openai_response[\"choices\"][0][\"text\"].strip()\n",
    "\n",
    "    return language_response, json_response"
   ]
  },
  {
   "cell_type": "raw",
   "metadata": {},
   "source": [
    "Given the items from before, reply with json.\n",
    "If finding items, format as: { \"cmd\": \"find\", \"items\": [\"red LEDs\", \"blue LEDs\"] }\n",
    "If adding items, format as: { \"cmd\": \"add\", \"items\": [\"green LEDs\", \"AAA batteries\"] }\n",
    "If removing items, format as: { \"cmd\": \"remove\", \"items\": [\"yellow LEDs\", \"twist ties\"] }\n"
   ]
  },
  {
   "cell_type": "code",
   "execution_count": 59,
   "metadata": {},
   "outputs": [
    {
     "name": "stdout",
     "output_type": "stream",
     "text": [
      "spoken_reply=\"I'll be happy to add some blue LEDs for you.\"\n",
      "json_reply='{ \"cmd\": \"add\", \"items\": [\"blue LEDs\"] }'\n"
     ]
    }
   ],
   "source": [
    "question = 'Add some blue LEDs'\n",
    "\n",
    "spoken_reply, json_reply = get_responses(question)\n",
    "print(f\"{spoken_reply=}\")\n",
    "print(f\"{json_reply=}\")"
   ]
  },
  {
   "cell_type": "code",
   "execution_count": 60,
   "metadata": {},
   "outputs": [
    {
     "name": "stdout",
     "output_type": "stream",
     "text": [
      "I will add the blue LEDs, 9V battery, and twist ties for you.\n",
      "----\n",
      "{ \"cmd\": \"add\", \"items\": [\"blue LEDs\", \"9V battery\", \"twist ties\"] }\n"
     ]
    }
   ],
   "source": [
    "question = 'Add some blue LEDs, a 9V battery, and some twist ties'\n",
    "\n",
    "spoken_reply, json_reply = get_responses(question)\n",
    "print(spoken_reply)\n",
    "print(\"----\")\n",
    "print(json_reply)"
   ]
  },
  {
   "cell_type": "code",
   "execution_count": 61,
   "metadata": {},
   "outputs": [
    {
     "name": "stdout",
     "output_type": "stream",
     "text": [
      "I'll help you find your multimeter.\n",
      "----\n",
      "{ \"cmd\": \"find\", \"items\": [\"multimeter\"] }\n"
     ]
    }
   ],
   "source": [
    "question = 'find my multimeter'\n",
    "\n",
    "spoken_reply, json_reply = get_responses(question)\n",
    "print(spoken_reply)\n",
    "print(\"----\")\n",
    "print(json_reply)"
   ]
  },
  {
   "cell_type": "code",
   "execution_count": 62,
   "metadata": {},
   "outputs": [
    {
     "name": "stdout",
     "output_type": "stream",
     "text": [
      "No problem, I'll take care of deleting your mini breadboard.\n",
      "----\n",
      "{\"cmd\": \"remove\", \"items\": [\"mini breadboard\"]}\n"
     ]
    }
   ],
   "source": [
    "question = 'delete my mini breadboard'\n",
    "\n",
    "spoken_reply, json_reply = get_responses(question)\n",
    "print(spoken_reply)\n",
    "print(\"----\")\n",
    "print(json_reply)"
   ]
  },
  {
   "cell_type": "code",
   "execution_count": 65,
   "metadata": {},
   "outputs": [
    {
     "name": "stdout",
     "output_type": "stream",
     "text": [
      "I can help you find your electrical tape.\n",
      "----\n",
      "{ \"cmd\": \"find\", \"items\": [\"electrical tape\"] }\n"
     ]
    }
   ],
   "source": [
    "question = 'where is my electrical tape?'\n",
    "\n",
    "spoken_reply, json_reply = get_responses(question)\n",
    "print(spoken_reply)\n",
    "print(\"----\")\n",
    "print(json_reply)"
   ]
  },
  {
   "cell_type": "raw",
   "metadata": {},
   "source": [
    "Prompt snippet:\n",
    "'You are a helpful assistant. A user will ask you to find, add, or remove items.'\n",
    "\n",
    "Response:\n",
    "I'm sorry, I can't help you find where your electrical tape is, but I can help you add or remove items from your list.\n",
    "----\n",
    "{ \"cmd\": \"find\", \"items\": [\"electrical tape\"] }\n",
    "\n",
    "\n",
    "After updating the prompt with:\n",
    "'You are a helpful assistant. A user will ask you to find, add, or remove items. Assume all items can be found.'\n",
    "\n",
    "Response:\n",
    "I can help you find your electrical tape.\n",
    "----\n",
    "{ \"cmd\": \"find\", \"items\": [\"electrical tape\"] }"
   ]
  },
  {
   "attachments": {},
   "cell_type": "markdown",
   "metadata": {},
   "source": [
    "Design a SQL table to store items"
   ]
  },
  {
   "cell_type": "code",
   "execution_count": 83,
   "metadata": {},
   "outputs": [],
   "source": [
    "import sqlite3\n",
    "\n",
    "conn = sqlite3.connect(\"inventory.db\")\n",
    "cursor = conn.cursor()\n",
    "\n",
    "# Create the item_inventory table\n",
    "cursor.execute(\"\"\"\n",
    "CREATE TABLE IF NOT EXISTS item_new (\n",
    "    id INTEGER PRIMARY KEY AUTOINCREMENT,\n",
    "    name TEXT NOT NULL UNIQUE,\n",
    "    quantity INTEGER NOT NULL DEFAULT 1,\n",
    "    row INTEGER NOT NULL,\n",
    "    col INTEGER NOT NULL,\n",
    "    date_created DATETIME NOT NULL,\n",
    "    date_updated DATETIME NOT NULL\n",
    ")\n",
    "\"\"\")\n",
    "\n",
    "# Commit the changes and close the connection\n",
    "conn.commit()"
   ]
  },
  {
   "cell_type": "code",
   "execution_count": 84,
   "metadata": {},
   "outputs": [],
   "source": [
    "# Copy over items to a new table\n",
    "conn = sqlite3.connect(\"inventory.db\")\n",
    "cursor = conn.cursor()\n",
    "\n",
    "cursor.execute(\"\"\"\n",
    "INSERT INTO item_new (id, name, quantity, row, col, date_created, date_updated)\n",
    "SELECT id, name, quantity, row, col, date_created, date_updated\n",
    "FROM item\n",
    "\"\"\"\n",
    ")\n",
    "\n",
    "conn.commit()\n",
    "conn.close()"
   ]
  },
  {
   "cell_type": "code",
   "execution_count": 85,
   "metadata": {},
   "outputs": [],
   "source": [
    "conn = sqlite3.connect(\"inventory.db\")\n",
    "cursor = conn.cursor()\n",
    "\n",
    "# Drop the old items table\n",
    "cursor.execute(\"DROP TABLE item\")\n",
    "\n",
    "# Rename the item_new to item\n",
    "cursor.execute(\"ALTER TABLE item_new RENAME TO item\")\n",
    "\n",
    "conn.commit()\n",
    "conn.close()"
   ]
  },
  {
   "cell_type": "code",
   "execution_count": 86,
   "metadata": {},
   "outputs": [
    {
     "name": "stdout",
     "output_type": "stream",
     "text": [
      "Schemas of tables:\n",
      "\n",
      "Table: sqlite_sequence\n",
      "---------------------------------------------------\n",
      "Column ID | Column Name  | Column Type | Nullable | Default Value | Primary Key\n",
      "0         | name         |             | 0        | None          | 0          \n",
      "1         | seq          |             | 0        | None          | 0          \n",
      "\n",
      "Table: item\n",
      "---------------------------------------------------\n",
      "Column ID | Column Name  | Column Type | Nullable | Default Value | Primary Key\n",
      "0         | id           | INTEGER     | 0        | None          | 1          \n",
      "1         | name         | TEXT        | 1        | None          | 0          \n",
      "2         | quantity     | INTEGER     | 1        | 1             | 0          \n",
      "3         | row          | INTEGER     | 1        | None          | 0          \n",
      "4         | col          | INTEGER     | 1        | None          | 0          \n",
      "5         | date_created | DATETIME    | 1        | None          | 0          \n",
      "6         | date_updated | DATETIME    | 1        | None          | 0          \n"
     ]
    }
   ],
   "source": [
    "conn = sqlite3.connect(\"inventory.db\")\n",
    "cursor = conn.cursor()\n",
    "\n",
    "# Query all tables in the database\n",
    "cursor.execute(\"SELECT name FROM sqlite_master WHERE type='table'\")\n",
    "\n",
    "# Fetch the table names\n",
    "tables = cursor.fetchall()\n",
    "\n",
    "# Iterate through the table names and print the schema for each table\n",
    "print(\"Schemas of tables:\")\n",
    "for table in tables:\n",
    "    table_name = table[0]\n",
    "    cursor.execute(f\"PRAGMA table_info('{table_name}')\")\n",
    "    schema = cursor.fetchall()\n",
    "    \n",
    "    print(f\"\\nTable: {table_name}\")\n",
    "    print(\"---------------------------------------------------\")\n",
    "    print(\"Column ID | Column Name  | Column Type | Nullable | Default Value | Primary Key\")\n",
    "    \n",
    "    for column in schema:\n",
    "        default_value = 'None' if column[4] is None else column[4]\n",
    "        print(f\"{column[0]:<9} | {column[1]:<12} | {column[2]:<11} | {column[3]:<8} | {default_value:<13} | {column[5]:<11}\")\n",
    "\n",
    "# Close the connection\n",
    "conn.close()"
   ]
  },
  {
   "cell_type": "code",
   "execution_count": 105,
   "metadata": {},
   "outputs": [],
   "source": [
    "def print_item_table():\n",
    "    conn = sqlite3.connect(\"inventory.db\")\n",
    "    cursor = conn.cursor()\n",
    "\n",
    "    cursor.execute(\"SELECT * FROM item\")\n",
    "    items = cursor.fetchall()\n",
    "\n",
    "    print(\"Items in the table:\")\n",
    "    print(f\"{'ID':<4} | {'Name':<15} | {'Quantity':<8} | {'Row':<4} | {'Col':<6} | {'Date Created':<12} | {'Date Updated':<16}\")\n",
    "    print(\"-----------------------------------------------------------------------------\")\n",
    "    \n",
    "    for item in items:\n",
    "        print(f\"{item[0]:<4} | {item[1]:<15} | {item[2]:<8} | {item[3]:<4} | {item[4]:<6} | {item[5]:<12} | {item[6]:<16}\")\n",
    "\n",
    "    conn.close()"
   ]
  },
  {
   "cell_type": "code",
   "execution_count": 95,
   "metadata": {},
   "outputs": [],
   "source": [
    "import sqlite3\n",
    "from datetime import date\n",
    "\n",
    "def add_or_update_item(item_name, additional_quantity):\n",
    "    conn = sqlite3.connect(\"inventory.db\")\n",
    "    cursor = conn.cursor()\n",
    "\n",
    "    # Check if the item already exists\n",
    "    cursor.execute(\"SELECT * FROM item WHERE name = ?\", (item_name,))\n",
    "    item = cursor.fetchone()\n",
    "\n",
    "    if item:\n",
    "        # Item exists, update its quantity\n",
    "        new_quantity = item[2] + additional_quantity\n",
    "        cursor.execute(\"UPDATE item SET quantity = ?, date_updated = ? WHERE name = ?\",\n",
    "                       (new_quantity, date.today(), item_name))\n",
    "    else:\n",
    "        # Item does not exist, find the next available row and column\n",
    "        cursor.execute(\"SELECT MAX(row), MAX(col) FROM item\")\n",
    "        max_row, max_column = cursor.fetchone()\n",
    "\n",
    "        if max_column is None or max_row is None:\n",
    "            next_row = 1\n",
    "            next_column = 1\n",
    "        elif max_column < 10:\n",
    "            next_row = max_row\n",
    "            next_column = max_column + 1\n",
    "        else:\n",
    "            next_row = max_row + 1\n",
    "            next_column = 1\n",
    "\n",
    "        # Insert the new item with the given quantity at the next available row and column\n",
    "        cursor.execute(\"\"\"\n",
    "            INSERT INTO item (name, quantity, row, col, date_created, date_updated)\n",
    "            VALUES (?, ?, ?, ?, ?, ?)\n",
    "            \"\"\", (item_name, additional_quantity, next_row, next_column, date.today(), date.today()))\n",
    "\n",
    "    # Commit the changes and close the connection\n",
    "    conn.commit()\n",
    "    conn.close()"
   ]
  },
  {
   "cell_type": "code",
   "execution_count": 107,
   "metadata": {},
   "outputs": [],
   "source": [
    "add_or_update_item(\"Red LED\", 5)"
   ]
  },
  {
   "cell_type": "code",
   "execution_count": 109,
   "metadata": {},
   "outputs": [],
   "source": [
    "add_or_update_item(\"9V Battery\", 1)"
   ]
  },
  {
   "cell_type": "code",
   "execution_count": 110,
   "metadata": {},
   "outputs": [
    {
     "name": "stdout",
     "output_type": "stream",
     "text": [
      "Items in the table:\n",
      "ID   | Name            | Quantity | Row  | Col    | Date Created | Date Updated    \n",
      "-----------------------------------------------------------------------------\n",
      "1    | Red LED         | 10       | 1    | 1      | 2023-04-11   | 2023-04-11      \n",
      "2    | 9V Battery      | 1        | 1    | 2      | 2023-04-11   | 2023-04-11      \n"
     ]
    }
   ],
   "source": [
    "print_item_table()"
   ]
  },
  {
   "attachments": {},
   "cell_type": "markdown",
   "metadata": {},
   "source": [
    "Test out full text search in SQLite"
   ]
  },
  {
   "cell_type": "code",
   "execution_count": 88,
   "metadata": {},
   "outputs": [],
   "source": [
    "conn = sqlite3.connect(\"inventory.db\")\n",
    "cursor = conn.cursor()\n",
    "\n",
    "cursor.execute(\"DROP TABLE IF EXISTS item\")\n",
    "cursor.execute(\"DROP TABLE IF EXISTS item_fts\")\n",
    "\n",
    "conn.commit()\n",
    "conn.close()"
   ]
  },
  {
   "cell_type": "code",
   "execution_count": 1,
   "metadata": {},
   "outputs": [],
   "source": [
    "import sqlite3\n",
    "from datetime import date\n",
    "\n",
    "def create_tables():\n",
    "    conn = sqlite3.connect(\"inventory.db\")\n",
    "    cursor = conn.cursor()\n",
    "\n",
    "    cursor.execute(\"\"\"\n",
    "        CREATE TABLE IF NOT EXISTS item (\n",
    "            id INTEGER PRIMARY KEY,\n",
    "            name TEXT UNIQUE NOT NULL,\n",
    "            quantity INTEGER NOT NULL DEFAULT 1,\n",
    "            row INTEGER NOT NULL,\n",
    "            col INTEGER NOT NULL,\n",
    "            date_created DATE NOT NULL,\n",
    "            date_updated DATE NOT NULL\n",
    "        )\n",
    "    \"\"\")\n",
    "\n",
    "    cursor.execute(\"\"\"\n",
    "        CREATE VIRTUAL TABLE IF NOT EXISTS item_fts USING fts5(id, name, tokenize='porter');\n",
    "    \"\"\")\n",
    "\n",
    "    conn.commit()\n",
    "    conn.close()\n",
    "\n",
    "create_tables()"
   ]
  },
  {
   "cell_type": "code",
   "execution_count": 5,
   "metadata": {},
   "outputs": [],
   "source": [
    "def add_or_update_item(item_name, additional_quantity):\n",
    "    conn = sqlite3.connect(\"inventory.db\")\n",
    "    cursor = conn.cursor()\n",
    "\n",
    "    # Check if the item already exists\n",
    "    cursor.execute(\"SELECT * FROM item WHERE name = ?\", (item_name,))\n",
    "    item = cursor.fetchone()\n",
    "\n",
    "    if item:\n",
    "        # Item exists, update its quantity\n",
    "        new_quantity = item[2] + additional_quantity\n",
    "        cursor.execute(\"UPDATE item SET quantity = ?, date_updated = ? WHERE name = ?\",\n",
    "                       (new_quantity, date.today(), item_name))\n",
    "    else:\n",
    "        # Item does not exist, find the next available row and column\n",
    "        cursor.execute(\"SELECT MAX(row), MAX(col) FROM item\")\n",
    "        max_row, max_column = cursor.fetchone()\n",
    "\n",
    "        if max_column is None or max_row is None:\n",
    "            next_row = 1\n",
    "            next_column = 1\n",
    "        elif max_column < 10:\n",
    "            next_row = max_row\n",
    "            next_column = max_column + 1\n",
    "        else:\n",
    "            next_row = max_row + 1\n",
    "            next_column = 1\n",
    "\n",
    "        # Insert the new item with the given quantity at the next available row and column\n",
    "        cursor.execute(\"\"\"\n",
    "            INSERT INTO item (name, quantity, row, col, date_created, date_updated)\n",
    "            VALUES (?, ?, ?, ?, ?, ?)\n",
    "            \"\"\", (item_name, additional_quantity, next_row, next_column, date.today(), date.today()))\n",
    "        \n",
    "        cursor.execute(\"\"\"\n",
    "            INSERT INTO item_fts (id, name)\n",
    "            VALUES (?, ?)\n",
    "            \"\"\", (cursor.lastrowid, item_name))\n",
    "\n",
    "    # Commit the changes and close the connection\n",
    "    conn.commit()\n",
    "    conn.close()"
   ]
  },
  {
   "cell_type": "code",
   "execution_count": 6,
   "metadata": {},
   "outputs": [],
   "source": [
    "add_or_update_item(\"9V battery\", 1)\n",
    "add_or_update_item(\"9V batteries\", 1)\n",
    "add_or_update_item(\"White LED\", 1)\n",
    "add_or_update_item(\"Green LEDs\", 1)\n",
    "add_or_update_item(\"Red LEDs\", 5)"
   ]
  },
  {
   "cell_type": "code",
   "execution_count": 7,
   "metadata": {},
   "outputs": [],
   "source": [
    "def search_items(query):\n",
    "    conn = sqlite3.connect(\"inventory.db\")\n",
    "    cursor = conn.cursor()\n",
    "\n",
    "    cursor.execute(\"SELECT item.*, item_fts.rank FROM item JOIN item_fts ON item.id = item_fts.id WHERE item_fts.name MATCH ? ORDER BY item_fts.rank\", (query,))\n",
    "    results = cursor.fetchall()\n",
    "\n",
    "    print(f\"Search results for '{query}':\")\n",
    "    for result in results:\n",
    "        print(f\"ID: {result[0]}, Name: {result[1]}, Relevance Score: {result[-1]}\")\n",
    "\n",
    "    conn.close()"
   ]
  },
  {
   "cell_type": "code",
   "execution_count": 9,
   "metadata": {},
   "outputs": [],
   "source": [
    "def search_items(query):\n",
    "    conn = sqlite3.connect(\"inventory.db\")\n",
    "    cursor = conn.cursor()\n",
    "\n",
    "    cursor.execute(\"SELECT item.*, item_fts.rank FROM item JOIN item_fts ON item.id = item_fts.id WHERE item_fts.name MATCH ? ORDER BY item_fts.rank\", (query,))\n",
    "    results = cursor.fetchall()\n",
    "\n",
    "    print(f\"Search results for '{query}':\")\n",
    "    for result in results:\n",
    "        print(result)\n",
    "\n",
    "    conn.close()"
   ]
  },
  {
   "cell_type": "code",
   "execution_count": 10,
   "metadata": {},
   "outputs": [
    {
     "name": "stdout",
     "output_type": "stream",
     "text": [
      "Search results for 'battery':\n",
      "(1, '9V battery', 2, 1, 1, '2023-04-12', '2023-04-13', -0.9388131867648212)\n",
      "(9, '9V batteries', 1, 1, 8, '2023-04-13', '2023-04-13', -0.9388131867648212)\n"
     ]
    }
   ],
   "source": [
    "# Perform a full-text search on the name column\n",
    "search_items(\"battery\")"
   ]
  },
  {
   "cell_type": "code",
   "execution_count": 37,
   "metadata": {},
   "outputs": [
    {
     "name": "stdout",
     "output_type": "stream",
     "text": [
      "Search results for 'led':\n",
      "ID: 3, Name: White LED, Relevance Score: -1e-06\n",
      "ID: 4, Name: Green LEDs, Relevance Score: -1e-06\n",
      "ID: 5, Name: Red LEDs, Relevance Score: -1e-06\n"
     ]
    }
   ],
   "source": [
    "search_items(\"led\")"
   ]
  },
  {
   "cell_type": "code",
   "execution_count": 38,
   "metadata": {},
   "outputs": [
    {
     "name": "stdout",
     "output_type": "stream",
     "text": [
      "Search results for 'leds':\n",
      "ID: 3, Name: White LED, Relevance Score: -1e-06\n",
      "ID: 4, Name: Green LEDs, Relevance Score: -1e-06\n",
      "ID: 5, Name: Red LEDs, Relevance Score: -1e-06\n"
     ]
    }
   ],
   "source": [
    "search_items('leds')"
   ]
  },
  {
   "cell_type": "code",
   "execution_count": 91,
   "metadata": {},
   "outputs": [],
   "source": [
    "def delete_items(items):\n",
    "    conn = sqlite3.connect(\"inventory.db\")\n",
    "    cursor = conn.cursor()\n",
    "\n",
    "    for item in items:\n",
    "        cursor.execute(f\"DELETE FROM item WHERE name=?\", (item,))\n",
    "\n",
    "        if cursor.rowcount > 0:\n",
    "            print(f\"'{item}' deleted from the item table.\")\n",
    "        else:\n",
    "            print(f\"'{item}' not found in the item table.\")\n",
    "\n",
    "        cursor.execute(f\"DELETE FROM item_fts WHERE name=?\", (item,))\n",
    "        \n",
    "        if cursor.rowcount > 0:\n",
    "            print(f\"'{item}' deleted from the item_fts table.\")\n",
    "        else:\n",
    "            print(f\"'{item}' not found in the item_fts table.\")\n",
    "\n",
    "    conn.commit()\n",
    "    conn.close()"
   ]
  },
  {
   "cell_type": "code",
   "execution_count": 61,
   "metadata": {},
   "outputs": [],
   "source": [
    "def print_tables():\n",
    "    conn = sqlite3.connect(\"inventory.db\")\n",
    "    cursor = conn.cursor()\n",
    "\n",
    "    cursor.execute(\"SELECT * FROM item\")\n",
    "    items = cursor.fetchall()\n",
    "\n",
    "    print(\"Item table:\")\n",
    "    print(f\"{'ID':<4} | {'Name':<15} | {'Quantity':<8} | {'Row':<4} | {'Col':<6} | {'Date Created':<12} | {'Date Updated':<16}\")\n",
    "    print(\"-----------------------------------------------------------------------------\")\n",
    "    \n",
    "    for item in items:\n",
    "        print(f\"{item[0]:<4} | {item[1]:<15} | {item[2]:<8} | {item[3]:<4} | {item[4]:<6} | {item[5]:<12} | {item[6]:<16}\")\n",
    "\n",
    "\n",
    "    print()\n",
    "    print(\"Item FTS table:\")\n",
    "    cursor.execute(\"SELECT * FROM item_fts\")\n",
    "    rows = cursor.fetchall()\n",
    "\n",
    "    if not rows:\n",
    "        print(\"The item_fts table is empty.\")\n",
    "    else:\n",
    "        print(f\"{'ID':<4} {'Name':<30}\")\n",
    "        print(\"-\" * 40)\n",
    "        for row in rows:\n",
    "            print(f\"{row[0]:<4} {row[1]:<30}\")\n",
    "\n",
    "    conn.close()"
   ]
  },
  {
   "cell_type": "code",
   "execution_count": 64,
   "metadata": {},
   "outputs": [
    {
     "name": "stdout",
     "output_type": "stream",
     "text": [
      "Item table:\n",
      "ID   | Name            | Quantity | Row  | Col    | Date Created | Date Updated    \n",
      "-----------------------------------------------------------------------------\n",
      "2    | 9V batteries    | 5        | 1    | 2      | 2023-04-12   | 2023-04-12      \n",
      "3    | White LED       | 4        | 1    | 3      | 2023-04-12   | 2023-04-12      \n",
      "4    | Green LEDs      | 3        | 1    | 4      | 2023-04-12   | 2023-04-12      \n",
      "5    | Red LEDs        | 15       | 1    | 5      | 2023-04-12   | 2023-04-12      \n",
      "6    | 9V battery      | 1        | 1    | 6      | 2023-04-12   | 2023-04-12      \n",
      "\n",
      "Item FTS table:\n",
      "ID   Name                          \n",
      "----------------------------------------\n",
      "2    9V batteries                  \n",
      "3    White LED                     \n",
      "4    Green LEDs                    \n",
      "5    Red LEDs                      \n",
      "6    9V battery                    \n"
     ]
    }
   ],
   "source": [
    "print_tables()"
   ]
  },
  {
   "cell_type": "markdown",
   "metadata": {},
   "source": []
  },
  {
   "cell_type": "code",
   "execution_count": 65,
   "metadata": {},
   "outputs": [
    {
     "name": "stdout",
     "output_type": "stream",
     "text": [
      "'9V battery' deleted from the item table.\n",
      "'9V battery' deleted from the item_fts table.\n"
     ]
    }
   ],
   "source": [
    "delete_items([\"9V battery\"])"
   ]
  },
  {
   "cell_type": "code",
   "execution_count": 69,
   "metadata": {},
   "outputs": [
    {
     "name": "stdout",
     "output_type": "stream",
     "text": [
      "Item table:\n",
      "ID   | Name            | Quantity | Row  | Col    | Date Created | Date Updated    \n",
      "-----------------------------------------------------------------------------\n",
      "2    | 9V batteries    | 5        | 1    | 2      | 2023-04-12   | 2023-04-12      \n",
      "3    | White LED       | 4        | 1    | 3      | 2023-04-12   | 2023-04-12      \n",
      "4    | Green LEDs      | 3        | 1    | 4      | 2023-04-12   | 2023-04-12      \n",
      "5    | Red LEDs        | 15       | 1    | 5      | 2023-04-12   | 2023-04-12      \n",
      "\n",
      "Item FTS table:\n",
      "ID   Name                          \n",
      "----------------------------------------\n",
      "2    9V batteries                  \n",
      "3    White LED                     \n",
      "4    Green LEDs                    \n",
      "5    Red LEDs                      \n"
     ]
    }
   ],
   "source": [
    "print_tables()"
   ]
  },
  {
   "attachments": {},
   "cell_type": "markdown",
   "metadata": {},
   "source": [
    "Modify the add or update method to account for row/column pairs that have become available when an item has been deleted"
   ]
  },
  {
   "cell_type": "code",
   "execution_count": 90,
   "metadata": {},
   "outputs": [],
   "source": [
    "def add_or_update_item(item_name, additional_quantity):\n",
    "    conn = sqlite3.connect(\"inventory.db\")\n",
    "    cursor = conn.cursor()\n",
    "\n",
    "    # Check if the item already exists\n",
    "    cursor.execute(\"SELECT * FROM item WHERE name = ?\", (item_name,))\n",
    "    item = cursor.fetchone()\n",
    "\n",
    "    if item:\n",
    "        # Item exists, update its quantity\n",
    "        new_quantity = item[2] + additional_quantity\n",
    "        cursor.execute(\"UPDATE item SET quantity = ?, date_updated = ? WHERE name = ?\",\n",
    "                       (new_quantity, date.today(), item_name))\n",
    "    else:\n",
    "        # Item does not exist, find the next available row and column\n",
    "        # Query all rows and columns in the item table\n",
    "        cursor.execute(\"SELECT row, col FROM item\")\n",
    "        occupied_positions = cursor.fetchall()\n",
    "\n",
    "        # Determine the minimum available row and column\n",
    "        occupied_positions_set = set(occupied_positions)\n",
    "        if len(occupied_positions_set) > 0:\n",
    "            max_row = max([pos[0] for pos in occupied_positions])\n",
    "            max_col = max([pos[1] for pos in occupied_positions])\n",
    "        else:\n",
    "            max_row, max_col = 0, 0\n",
    "\n",
    "        next_row, next_column = None, None\n",
    "        for row in range(1, min(max_row + 2, 8)):\n",
    "            for col in range(1, min(max_col + 2, 16)):\n",
    "                if (row, col) not in occupied_positions_set:\n",
    "                    next_row, next_column = row, col\n",
    "                    break\n",
    "            if next_row is not None:\n",
    "                break\n",
    "\n",
    "        if next_row == None or next_column == None:\n",
    "            raise Exception(\"There is no remaining space in the organizer!\")\n",
    "        \n",
    "        print(f\"Inserting item '{item_name}' at [{next_row}, {next_column}]\")\n",
    "\n",
    "        # Insert the new item with the given quantity at the next available row and column\n",
    "        cursor.execute(\"\"\"\n",
    "            INSERT INTO item (name, quantity, row, col, date_created, date_updated)\n",
    "            VALUES (?, ?, ?, ?, ?, ?)\n",
    "            \"\"\", (item_name, additional_quantity, next_row, next_column, date.today(), date.today()))\n",
    "        \n",
    "        cursor.execute(\"\"\"\n",
    "            INSERT INTO item_fts (id, name)\n",
    "            VALUES (?, ?)\n",
    "            \"\"\", (cursor.lastrowid, item_name))\n",
    "\n",
    "    # Commit the changes and close the connection\n",
    "    conn.commit()\n",
    "    conn.close()"
   ]
  },
  {
   "cell_type": "code",
   "execution_count": 92,
   "metadata": {},
   "outputs": [
    {
     "name": "stdout",
     "output_type": "stream",
     "text": [
      "Inserting item '9V battery' at [1, 1]\n",
      "Inserting item '9V batteries' at [1, 2]\n",
      "Inserting item 'Green LEDs' at [1, 3]\n",
      "Inserting item 'Red LEDs' at [1, 4]\n",
      "Inserting item 'White LED' at [1, 5]\n",
      "Item table:\n",
      "ID   | Name            | Quantity | Row  | Col    | Date Created | Date Updated    \n",
      "-----------------------------------------------------------------------------\n",
      "1    | 9V battery      | 1        | 1    | 1      | 2023-04-12   | 2023-04-12      \n",
      "2    | 9V batteries    | 1        | 1    | 2      | 2023-04-12   | 2023-04-12      \n",
      "3    | Green LEDs      | 1        | 1    | 3      | 2023-04-12   | 2023-04-12      \n",
      "4    | Red LEDs        | 1        | 1    | 4      | 2023-04-12   | 2023-04-12      \n",
      "5    | White LED       | 1        | 1    | 5      | 2023-04-12   | 2023-04-12      \n",
      "\n",
      "Item FTS table:\n",
      "ID   Name                          \n",
      "----------------------------------------\n",
      "1    9V battery                    \n",
      "2    9V batteries                  \n",
      "3    Green LEDs                    \n",
      "4    Red LEDs                      \n",
      "5    White LED                     \n"
     ]
    }
   ],
   "source": [
    "add_or_update_item(\"9V battery\", 1)\n",
    "add_or_update_item(\"9V batteries\", 1)\n",
    "add_or_update_item(\"Green LEDs\", 1)\n",
    "add_or_update_item(\"Red LEDs\", 1)\n",
    "add_or_update_item(\"White LED\", 1)\n",
    "print_tables()"
   ]
  },
  {
   "cell_type": "code",
   "execution_count": 93,
   "metadata": {},
   "outputs": [
    {
     "name": "stdout",
     "output_type": "stream",
     "text": [
      "'Red LED' not found in the item table.\n",
      "'Red LED' not found in the item_fts table.\n",
      "'9V batteries' deleted from the item table.\n",
      "'9V batteries' deleted from the item_fts table.\n",
      "Item table:\n",
      "ID   | Name            | Quantity | Row  | Col    | Date Created | Date Updated    \n",
      "-----------------------------------------------------------------------------\n",
      "1    | 9V battery      | 1        | 1    | 1      | 2023-04-12   | 2023-04-12      \n",
      "3    | Green LEDs      | 1        | 1    | 3      | 2023-04-12   | 2023-04-12      \n",
      "4    | Red LEDs        | 1        | 1    | 4      | 2023-04-12   | 2023-04-12      \n",
      "5    | White LED       | 1        | 1    | 5      | 2023-04-12   | 2023-04-12      \n",
      "\n",
      "Item FTS table:\n",
      "ID   Name                          \n",
      "----------------------------------------\n",
      "1    9V battery                    \n",
      "3    Green LEDs                    \n",
      "4    Red LEDs                      \n",
      "5    White LED                     \n"
     ]
    }
   ],
   "source": [
    "delete_items([\"Red LED\", \"9V batteries\"])\n",
    "print_tables()"
   ]
  },
  {
   "cell_type": "code",
   "execution_count": 94,
   "metadata": {},
   "outputs": [
    {
     "name": "stdout",
     "output_type": "stream",
     "text": [
      "Inserting item 'twist ties' at [1, 2]\n",
      "Inserting item 'mini breadboard' at [1, 6]\n",
      "Item table:\n",
      "ID   | Name            | Quantity | Row  | Col    | Date Created | Date Updated    \n",
      "-----------------------------------------------------------------------------\n",
      "1    | 9V battery      | 1        | 1    | 1      | 2023-04-12   | 2023-04-12      \n",
      "3    | Green LEDs      | 1        | 1    | 3      | 2023-04-12   | 2023-04-12      \n",
      "4    | Red LEDs        | 1        | 1    | 4      | 2023-04-12   | 2023-04-12      \n",
      "5    | White LED       | 1        | 1    | 5      | 2023-04-12   | 2023-04-12      \n",
      "6    | twist ties      | 1        | 1    | 2      | 2023-04-12   | 2023-04-12      \n",
      "7    | mini breadboard | 1        | 1    | 6      | 2023-04-12   | 2023-04-12      \n",
      "\n",
      "Item FTS table:\n",
      "ID   Name                          \n",
      "----------------------------------------\n",
      "1    9V battery                    \n",
      "3    Green LEDs                    \n",
      "4    Red LEDs                      \n",
      "5    White LED                     \n",
      "6    twist ties                    \n",
      "7    mini breadboard               \n"
     ]
    }
   ],
   "source": [
    "add_or_update_item(\"twist ties\", 1)\n",
    "add_or_update_item(\"mini breadboard\", 1)\n",
    "print_tables()"
   ]
  },
  {
   "cell_type": "code",
   "execution_count": 95,
   "metadata": {},
   "outputs": [
    {
     "name": "stdout",
     "output_type": "stream",
     "text": [
      "Inserting item 'speaker' at [1, 7]\n",
      "Item table:\n",
      "ID   | Name            | Quantity | Row  | Col    | Date Created | Date Updated    \n",
      "-----------------------------------------------------------------------------\n",
      "1    | 9V battery      | 1        | 1    | 1      | 2023-04-12   | 2023-04-12      \n",
      "3    | Green LEDs      | 1        | 1    | 3      | 2023-04-12   | 2023-04-12      \n",
      "4    | Red LEDs        | 1        | 1    | 4      | 2023-04-12   | 2023-04-12      \n",
      "5    | White LED       | 1        | 1    | 5      | 2023-04-12   | 2023-04-12      \n",
      "6    | twist ties      | 1        | 1    | 2      | 2023-04-12   | 2023-04-12      \n",
      "7    | mini breadboard | 1        | 1    | 6      | 2023-04-12   | 2023-04-12      \n",
      "8    | speaker         | 1        | 1    | 7      | 2023-04-12   | 2023-04-12      \n",
      "\n",
      "Item FTS table:\n",
      "ID   Name                          \n",
      "----------------------------------------\n",
      "1    9V battery                    \n",
      "3    Green LEDs                    \n",
      "4    Red LEDs                      \n",
      "5    White LED                     \n",
      "6    twist ties                    \n",
      "7    mini breadboard               \n",
      "8    speaker                       \n"
     ]
    }
   ],
   "source": [
    "add_or_update_item(\"speaker\", 1)\n",
    "print_tables()"
   ]
  },
  {
   "attachments": {},
   "cell_type": "markdown",
   "metadata": {},
   "source": [
    "Put everything together.<br>\n",
    "1. PocketSphinx listens for the keyword\n",
    "2. PocketSphinx captures the next spoken sentence\n",
    "3. Whisper converts speech to text\n",
    "4. GPT extracts relevant parts of text, and responds with a sentence\n",
    "5. ElevenLabs synthesizes a voice for the sentence\n",
    "6. GPT extracts relevant json from Whisper's text\n",
    "7. SQLite handles item insertion, updating, deletion, and searching in the database."
   ]
  },
  {
   "attachments": {},
   "cell_type": "markdown",
   "metadata": {},
   "source": [
    "Test GPT-3.5-Turbo vs. text-davinci-003"
   ]
  },
  {
   "cell_type": "code",
   "execution_count": 4,
   "metadata": {},
   "outputs": [
    {
     "ename": "InvalidRequestError",
     "evalue": "This is a chat model and not supported in the v1/completions endpoint. Did you mean to use v1/chat/completions?",
     "output_type": "error",
     "traceback": [
      "\u001b[1;31m---------------------------------------------------------------------------\u001b[0m",
      "\u001b[1;31mInvalidRequestError\u001b[0m                       Traceback (most recent call last)",
      "Cell \u001b[1;32mIn[4], line 12\u001b[0m\n\u001b[0;32m      9\u001b[0m \u001b[39m#engine = \"text-davinci-003\"\u001b[39;00m\n\u001b[0;32m     10\u001b[0m engine \u001b[39m=\u001b[39m \u001b[39m\"\u001b[39m\u001b[39mgpt-3.5-turbo\u001b[39m\u001b[39m\"\u001b[39m\n\u001b[1;32m---> 12\u001b[0m response \u001b[39m=\u001b[39m openai\u001b[39m.\u001b[39;49mCompletion\u001b[39m.\u001b[39;49mcreate(\n\u001b[0;32m     13\u001b[0m     engine\u001b[39m=\u001b[39;49mengine,\n\u001b[0;32m     14\u001b[0m     prompt\u001b[39m=\u001b[39;49mlanguage_prompt,\n\u001b[0;32m     15\u001b[0m     max_tokens\u001b[39m=\u001b[39;49m\u001b[39m1024\u001b[39;49m,\n\u001b[0;32m     16\u001b[0m     n\u001b[39m=\u001b[39;49m\u001b[39m1\u001b[39;49m,\n\u001b[0;32m     17\u001b[0m     stop\u001b[39m=\u001b[39;49m\u001b[39mNone\u001b[39;49;00m,\n\u001b[0;32m     18\u001b[0m     temperature\u001b[39m=\u001b[39;49m\u001b[39m0.5\u001b[39;49m,\n\u001b[0;32m     19\u001b[0m )\n\u001b[0;32m     21\u001b[0m generated_text \u001b[39m=\u001b[39m response[\u001b[39m\"\u001b[39m\u001b[39mchoices\u001b[39m\u001b[39m\"\u001b[39m][\u001b[39m0\u001b[39m][\u001b[39m\"\u001b[39m\u001b[39mtext\u001b[39m\u001b[39m\"\u001b[39m]\n\u001b[0;32m     22\u001b[0m \u001b[39mprint\u001b[39m(generated_text)\n",
      "File \u001b[1;32mc:\\Users\\Dustin\\miniconda3\\envs\\FindyBot5000\\Lib\\site-packages\\openai\\api_resources\\completion.py:25\u001b[0m, in \u001b[0;36mCompletion.create\u001b[1;34m(cls, *args, **kwargs)\u001b[0m\n\u001b[0;32m     23\u001b[0m \u001b[39mwhile\u001b[39;00m \u001b[39mTrue\u001b[39;00m:\n\u001b[0;32m     24\u001b[0m     \u001b[39mtry\u001b[39;00m:\n\u001b[1;32m---> 25\u001b[0m         \u001b[39mreturn\u001b[39;00m \u001b[39msuper\u001b[39;49m()\u001b[39m.\u001b[39;49mcreate(\u001b[39m*\u001b[39;49margs, \u001b[39m*\u001b[39;49m\u001b[39m*\u001b[39;49mkwargs)\n\u001b[0;32m     26\u001b[0m     \u001b[39mexcept\u001b[39;00m TryAgain \u001b[39mas\u001b[39;00m e:\n\u001b[0;32m     27\u001b[0m         \u001b[39mif\u001b[39;00m timeout \u001b[39mis\u001b[39;00m \u001b[39mnot\u001b[39;00m \u001b[39mNone\u001b[39;00m \u001b[39mand\u001b[39;00m time\u001b[39m.\u001b[39mtime() \u001b[39m>\u001b[39m start \u001b[39m+\u001b[39m timeout:\n",
      "File \u001b[1;32mc:\\Users\\Dustin\\miniconda3\\envs\\FindyBot5000\\Lib\\site-packages\\openai\\api_resources\\abstract\\engine_api_resource.py:153\u001b[0m, in \u001b[0;36mEngineAPIResource.create\u001b[1;34m(cls, api_key, api_base, api_type, request_id, api_version, organization, **params)\u001b[0m\n\u001b[0;32m    127\u001b[0m \u001b[39m@classmethod\u001b[39m\n\u001b[0;32m    128\u001b[0m \u001b[39mdef\u001b[39;00m \u001b[39mcreate\u001b[39m(\n\u001b[0;32m    129\u001b[0m     \u001b[39mcls\u001b[39m,\n\u001b[1;32m   (...)\u001b[0m\n\u001b[0;32m    136\u001b[0m     \u001b[39m*\u001b[39m\u001b[39m*\u001b[39mparams,\n\u001b[0;32m    137\u001b[0m ):\n\u001b[0;32m    138\u001b[0m     (\n\u001b[0;32m    139\u001b[0m         deployment_id,\n\u001b[0;32m    140\u001b[0m         engine,\n\u001b[1;32m   (...)\u001b[0m\n\u001b[0;32m    150\u001b[0m         api_key, api_base, api_type, api_version, organization, \u001b[39m*\u001b[39m\u001b[39m*\u001b[39mparams\n\u001b[0;32m    151\u001b[0m     )\n\u001b[1;32m--> 153\u001b[0m     response, _, api_key \u001b[39m=\u001b[39m requestor\u001b[39m.\u001b[39;49mrequest(\n\u001b[0;32m    154\u001b[0m         \u001b[39m\"\u001b[39;49m\u001b[39mpost\u001b[39;49m\u001b[39m\"\u001b[39;49m,\n\u001b[0;32m    155\u001b[0m         url,\n\u001b[0;32m    156\u001b[0m         params\u001b[39m=\u001b[39;49mparams,\n\u001b[0;32m    157\u001b[0m         headers\u001b[39m=\u001b[39;49mheaders,\n\u001b[0;32m    158\u001b[0m         stream\u001b[39m=\u001b[39;49mstream,\n\u001b[0;32m    159\u001b[0m         request_id\u001b[39m=\u001b[39;49mrequest_id,\n\u001b[0;32m    160\u001b[0m         request_timeout\u001b[39m=\u001b[39;49mrequest_timeout,\n\u001b[0;32m    161\u001b[0m     )\n\u001b[0;32m    163\u001b[0m     \u001b[39mif\u001b[39;00m stream:\n\u001b[0;32m    164\u001b[0m         \u001b[39m# must be an iterator\u001b[39;00m\n\u001b[0;32m    165\u001b[0m         \u001b[39massert\u001b[39;00m \u001b[39mnot\u001b[39;00m \u001b[39misinstance\u001b[39m(response, OpenAIResponse)\n",
      "File \u001b[1;32mc:\\Users\\Dustin\\miniconda3\\envs\\FindyBot5000\\Lib\\site-packages\\openai\\api_requestor.py:226\u001b[0m, in \u001b[0;36mAPIRequestor.request\u001b[1;34m(self, method, url, params, headers, files, stream, request_id, request_timeout)\u001b[0m\n\u001b[0;32m    205\u001b[0m \u001b[39mdef\u001b[39;00m \u001b[39mrequest\u001b[39m(\n\u001b[0;32m    206\u001b[0m     \u001b[39mself\u001b[39m,\n\u001b[0;32m    207\u001b[0m     method,\n\u001b[1;32m   (...)\u001b[0m\n\u001b[0;32m    214\u001b[0m     request_timeout: Optional[Union[\u001b[39mfloat\u001b[39m, Tuple[\u001b[39mfloat\u001b[39m, \u001b[39mfloat\u001b[39m]]] \u001b[39m=\u001b[39m \u001b[39mNone\u001b[39;00m,\n\u001b[0;32m    215\u001b[0m ) \u001b[39m-\u001b[39m\u001b[39m>\u001b[39m Tuple[Union[OpenAIResponse, Iterator[OpenAIResponse]], \u001b[39mbool\u001b[39m, \u001b[39mstr\u001b[39m]:\n\u001b[0;32m    216\u001b[0m     result \u001b[39m=\u001b[39m \u001b[39mself\u001b[39m\u001b[39m.\u001b[39mrequest_raw(\n\u001b[0;32m    217\u001b[0m         method\u001b[39m.\u001b[39mlower(),\n\u001b[0;32m    218\u001b[0m         url,\n\u001b[1;32m   (...)\u001b[0m\n\u001b[0;32m    224\u001b[0m         request_timeout\u001b[39m=\u001b[39mrequest_timeout,\n\u001b[0;32m    225\u001b[0m     )\n\u001b[1;32m--> 226\u001b[0m     resp, got_stream \u001b[39m=\u001b[39m \u001b[39mself\u001b[39;49m\u001b[39m.\u001b[39;49m_interpret_response(result, stream)\n\u001b[0;32m    227\u001b[0m     \u001b[39mreturn\u001b[39;00m resp, got_stream, \u001b[39mself\u001b[39m\u001b[39m.\u001b[39mapi_key\n",
      "File \u001b[1;32mc:\\Users\\Dustin\\miniconda3\\envs\\FindyBot5000\\Lib\\site-packages\\openai\\api_requestor.py:619\u001b[0m, in \u001b[0;36mAPIRequestor._interpret_response\u001b[1;34m(self, result, stream)\u001b[0m\n\u001b[0;32m    611\u001b[0m     \u001b[39mreturn\u001b[39;00m (\n\u001b[0;32m    612\u001b[0m         \u001b[39mself\u001b[39m\u001b[39m.\u001b[39m_interpret_response_line(\n\u001b[0;32m    613\u001b[0m             line, result\u001b[39m.\u001b[39mstatus_code, result\u001b[39m.\u001b[39mheaders, stream\u001b[39m=\u001b[39m\u001b[39mTrue\u001b[39;00m\n\u001b[0;32m    614\u001b[0m         )\n\u001b[0;32m    615\u001b[0m         \u001b[39mfor\u001b[39;00m line \u001b[39min\u001b[39;00m parse_stream(result\u001b[39m.\u001b[39miter_lines())\n\u001b[0;32m    616\u001b[0m     ), \u001b[39mTrue\u001b[39;00m\n\u001b[0;32m    617\u001b[0m \u001b[39melse\u001b[39;00m:\n\u001b[0;32m    618\u001b[0m     \u001b[39mreturn\u001b[39;00m (\n\u001b[1;32m--> 619\u001b[0m         \u001b[39mself\u001b[39;49m\u001b[39m.\u001b[39;49m_interpret_response_line(\n\u001b[0;32m    620\u001b[0m             result\u001b[39m.\u001b[39;49mcontent\u001b[39m.\u001b[39;49mdecode(\u001b[39m\"\u001b[39;49m\u001b[39mutf-8\u001b[39;49m\u001b[39m\"\u001b[39;49m),\n\u001b[0;32m    621\u001b[0m             result\u001b[39m.\u001b[39;49mstatus_code,\n\u001b[0;32m    622\u001b[0m             result\u001b[39m.\u001b[39;49mheaders,\n\u001b[0;32m    623\u001b[0m             stream\u001b[39m=\u001b[39;49m\u001b[39mFalse\u001b[39;49;00m,\n\u001b[0;32m    624\u001b[0m         ),\n\u001b[0;32m    625\u001b[0m         \u001b[39mFalse\u001b[39;00m,\n\u001b[0;32m    626\u001b[0m     )\n",
      "File \u001b[1;32mc:\\Users\\Dustin\\miniconda3\\envs\\FindyBot5000\\Lib\\site-packages\\openai\\api_requestor.py:682\u001b[0m, in \u001b[0;36mAPIRequestor._interpret_response_line\u001b[1;34m(self, rbody, rcode, rheaders, stream)\u001b[0m\n\u001b[0;32m    680\u001b[0m stream_error \u001b[39m=\u001b[39m stream \u001b[39mand\u001b[39;00m \u001b[39m\"\u001b[39m\u001b[39merror\u001b[39m\u001b[39m\"\u001b[39m \u001b[39min\u001b[39;00m resp\u001b[39m.\u001b[39mdata\n\u001b[0;32m    681\u001b[0m \u001b[39mif\u001b[39;00m stream_error \u001b[39mor\u001b[39;00m \u001b[39mnot\u001b[39;00m \u001b[39m200\u001b[39m \u001b[39m<\u001b[39m\u001b[39m=\u001b[39m rcode \u001b[39m<\u001b[39m \u001b[39m300\u001b[39m:\n\u001b[1;32m--> 682\u001b[0m     \u001b[39mraise\u001b[39;00m \u001b[39mself\u001b[39m\u001b[39m.\u001b[39mhandle_error_response(\n\u001b[0;32m    683\u001b[0m         rbody, rcode, resp\u001b[39m.\u001b[39mdata, rheaders, stream_error\u001b[39m=\u001b[39mstream_error\n\u001b[0;32m    684\u001b[0m     )\n\u001b[0;32m    685\u001b[0m \u001b[39mreturn\u001b[39;00m resp\n",
      "\u001b[1;31mInvalidRequestError\u001b[0m: This is a chat model and not supported in the v1/completions endpoint. Did you mean to use v1/chat/completions?"
     ]
    }
   ],
   "source": [
    "question = \"Where are my red LEDS and my 9V battery?\"\n",
    "\n",
    "language_prompt = \\\n",
    "    'You are a helpful assistant. A user will ask you to find, add, or remove items. Assume all items can be found.' + \\\n",
    "    'Reply with a friendly message. The message must mention the items. If there are no items, reply with an empty sentence. ' + \\\n",
    "    'Do not mention where the items are added or removed. It must be a single sentence.' + \\\n",
    "    f'Question: {question}'\n",
    "\n",
    "engine = \"text-davinci-003\"\n",
    "\n",
    "response = openai.Completion.create(\n",
    "    engine=engine,\n",
    "    prompt=language_prompt,\n",
    "    max_tokens=1024,\n",
    "    n=1,\n",
    "    stop=None,\n",
    "    temperature=0.5,\n",
    ")\n",
    "\n",
    "generated_text = response[\"choices\"][0][\"text\"]\n",
    "print(generated_text)"
   ]
  },
  {
   "cell_type": "code",
   "execution_count": 12,
   "metadata": {},
   "outputs": [
    {
     "name": "stdout",
     "output_type": "stream",
     "text": [
      "I will find your red LEDs and 9V battery for you.\n",
      "{\n",
      "  \"choices\": [\n",
      "    {\n",
      "      \"finish_reason\": \"stop\",\n",
      "      \"index\": 0,\n",
      "      \"message\": {\n",
      "        \"content\": \"I will find your red LEDs and 9V battery for you.\",\n",
      "        \"role\": \"assistant\"\n",
      "      }\n",
      "    }\n",
      "  ],\n",
      "  \"created\": 1681411451,\n",
      "  \"id\": \"chatcmpl-74wDT2GciqcDmx0kaX7oMwGvt35u0\",\n",
      "  \"model\": \"gpt-3.5-turbo-0301\",\n",
      "  \"object\": \"chat.completion\",\n",
      "  \"usage\": {\n",
      "    \"completion_tokens\": 14,\n",
      "    \"prompt_tokens\": 96,\n",
      "    \"total_tokens\": 110\n",
      "  }\n",
      "}\n"
     ]
    }
   ],
   "source": [
    "messages=[\n",
    "        {\"role\": \"system\", \"content\": \n",
    "            'You are a helpful assistant. A user will ask you to find, add, or remove items. Assume all items can be found.' + \\\n",
    "            'Reply with a friendly message. The message must mention the items. If there are no items, reply with an empty sentence. ' + \\\n",
    "            'Do not mention where the items are added or removed. It must be a single sentence.'},\n",
    "        {\"role\": \"user\", \"content\": question}\n",
    "    ]\n",
    "\n",
    "model = \"gpt-3.5-turbo\"\n",
    "#model = \"gpt-4\"\n",
    "\n",
    "response = openai.ChatCompletion.create(\n",
    "    model=model,\n",
    "    messages=messages\n",
    ")\n",
    "\n",
    "print(response['choices'][0]['message']['content'])\n",
    "\n",
    "print(response)"
   ]
  },
  {
   "cell_type": "code",
   "execution_count": 14,
   "metadata": {},
   "outputs": [
    {
     "name": "stdout",
     "output_type": "stream",
     "text": [
      "I'll help you locate your red LEDs and 9V battery right away!\n",
      "{\n",
      "  \"choices\": [\n",
      "    {\n",
      "      \"finish_reason\": \"stop\",\n",
      "      \"index\": 0,\n",
      "      \"message\": {\n",
      "        \"content\": \"I'll help you locate your red LEDs and 9V battery right away!\",\n",
      "        \"role\": \"assistant\"\n",
      "      }\n",
      "    }\n",
      "  ],\n",
      "  \"created\": 1681411689,\n",
      "  \"id\": \"chatcmpl-74wHJdD82QOJK2FSzXcOfiJXGCm7s\",\n",
      "  \"model\": \"gpt-3.5-turbo-0301\",\n",
      "  \"object\": \"chat.completion\",\n",
      "  \"usage\": {\n",
      "    \"completion_tokens\": 16,\n",
      "    \"prompt_tokens\": 96,\n",
      "    \"total_tokens\": 112\n",
      "  }\n",
      "}\n",
      "{ \"cmd\": \"find\", \"items\": [\"red LEDs\", \"9V battery\"] }\n",
      "{\n",
      "  \"choices\": [\n",
      "    {\n",
      "      \"finish_reason\": \"stop\",\n",
      "      \"index\": 0,\n",
      "      \"message\": {\n",
      "        \"content\": \"{ \\\"cmd\\\": \\\"find\\\", \\\"items\\\": [\\\"red LEDs\\\", \\\"9V battery\\\"] }\",\n",
      "        \"role\": \"assistant\"\n",
      "      }\n",
      "    }\n",
      "  ],\n",
      "  \"created\": 1681411690,\n",
      "  \"id\": \"chatcmpl-74wHKNRHwoD2HJxXYfkmzYvkQ6sXT\",\n",
      "  \"model\": \"gpt-3.5-turbo-0301\",\n",
      "  \"object\": \"chat.completion\",\n",
      "  \"usage\": {\n",
      "    \"completion_tokens\": 20,\n",
      "    \"prompt_tokens\": 206,\n",
      "    \"total_tokens\": 226\n",
      "  }\n",
      "}\n"
     ]
    }
   ],
   "source": [
    "messages=[\n",
    "        {\"role\": \"system\", \"content\": \n",
    "            'You are a helpful assistant. A user will ask you to find, add, or remove items. Assume all items can be found.' + \\\n",
    "            'Reply with a friendly message. The message must mention the items. If there are no items, reply with an empty sentence. ' + \\\n",
    "            'Do not mention where the items are added or removed. It must be a single sentence.'},\n",
    "        {\"role\": \"user\", \"content\": question}\n",
    "    ]\n",
    "\n",
    "model = \"gpt-3.5-turbo\"\n",
    "#model = \"gpt-4\"\n",
    "\n",
    "response = openai.ChatCompletion.create(\n",
    "    model=model,\n",
    "    messages=messages\n",
    ")\n",
    "\n",
    "print(response['choices'][0]['message']['content'])\n",
    "print(response)\n",
    "\n",
    "messages.append(response['choices'][0]['message'])\n",
    "messages.append({\n",
    "    \"role\": \"user\",\n",
    "    \"content\": \n",
    "        'Reply with json only. ' + \\\n",
    "        'If finding items, format as: { \"cmd\": \"find\", \"items\": [\"red LEDs\", \"blue LEDs\"] }. ' + \\\n",
    "        'If adding items, format as: { \"cmd\": \"add\", \"items\": [\"green LEDs\"] }. ' + \\\n",
    "        'If removing items, format as: { \"cmd\": \"remove\", \"items\": [\"yellow LEDs\", \"twist ties\", \"9V battery\"]' \n",
    "    })\n",
    "\n",
    "response = openai.ChatCompletion.create(\n",
    "    model=model,\n",
    "    messages=messages\n",
    ")\n",
    "\n",
    "print(response['choices'][0]['message']['content'])\n",
    "print(response)"
   ]
  },
  {
   "cell_type": "code",
   "execution_count": null,
   "metadata": {},
   "outputs": [],
   "source": []
  }
 ],
 "metadata": {
  "kernelspec": {
   "display_name": "FindyBot5000",
   "language": "python",
   "name": "python3"
  },
  "language_info": {
   "codemirror_mode": {
    "name": "ipython",
    "version": 3
   },
   "file_extension": ".py",
   "mimetype": "text/x-python",
   "name": "python",
   "nbconvert_exporter": "python",
   "pygments_lexer": "ipython3",
   "version": "3.11.3"
  },
  "orig_nbformat": 4
 },
 "nbformat": 4,
 "nbformat_minor": 2
}
